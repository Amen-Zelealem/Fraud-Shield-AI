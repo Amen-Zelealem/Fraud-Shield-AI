{
 "cells": [
  {
   "cell_type": "markdown",
   "metadata": {},
   "source": [
    "# **Task 2 - Fraud Detection Pipeline**"
   ]
  },
  {
   "cell_type": "code",
   "execution_count": 1,
   "metadata": {},
   "outputs": [],
   "source": [
    "# Import necessary libraries\n",
    "import pandas as pd\n",
    "import numpy as np\n",
    "import matplotlib.pyplot as plt\n",
    "import seaborn as sns\n",
    "import os\n",
    "import sys\n",
    "import logging"
   ]
  },
  {
   "cell_type": "code",
   "execution_count": 2,
   "metadata": {},
   "outputs": [
    {
     "name": "stdout",
     "output_type": "stream",
     "text": [
      "✅ 'scripts' directory added to the Python path successfully!\n"
     ]
    }
   ],
   "source": [
    "# Add the 'scripts' directory to the Python path for module imports\n",
    "scripts_path = os.path.abspath(os.path.join('..', 'scripts'))\n",
    "sys.path.append(scripts_path)\n",
    "print(\"✅ 'scripts' directory added to the Python path successfully!\")"
   ]
  },
  {
   "cell_type": "code",
   "execution_count": 3,
   "metadata": {},
   "outputs": [
    {
     "name": "stdout",
     "output_type": "stream",
     "text": [
      "=======================================\n",
      "✅ Display options configured successfully!\n"
     ]
    }
   ],
   "source": [
    "# Set max rows and columns to display for better visibility in outputs\n",
    "pd.set_option('display.max_columns', 200)\n",
    "pd.set_option('display.max_rows', 200)\n",
    "\n",
    "# Log the configuration of display options\n",
    "logging.info(\"📏 Maximum rows and columns set for better visibility in outputs.\")\n",
    "print(\"=======================================\")\n",
    "print(\"✅ Display options configured successfully!\")"
   ]
  },
  {
   "cell_type": "code",
   "execution_count": 4,
   "metadata": {},
   "outputs": [
    {
     "name": "stderr",
     "output_type": "stream",
     "text": [
      "2025-02-17 10:54:44,982 - logger - INFO - Logger configured successfully.\n",
      "INFO:logger:Logger configured successfully.\n"
     ]
    },
    {
     "name": "stdout",
     "output_type": "stream",
     "text": [
      "============================================================================\n",
      "🔧 Logging system initialized for fraud detection pipeline.\n"
     ]
    }
   ],
   "source": [
    "# Configure logging\n",
    "from logger import LoggerSetup  \n",
    "\n",
    "# Initialize the logger for tracking the fraud detection pipeline\n",
    "log_file_path = '../logs/fraud_detection_pipeline.log'\n",
    "logger = LoggerSetup(log_file=log_file_path).get_logger()\n",
    "print(\"============================================================================\")\n",
    "print(\"🔧 Logging system initialized for fraud detection pipeline.\")"
   ]
  },
  {
   "cell_type": "code",
   "execution_count": 5,
   "metadata": {},
   "outputs": [],
   "source": [
    "# Import the DatasetLoader class for loading and preprocessing datasets\n",
    "from data_loader import DatasetLoader "
   ]
  },
  {
   "cell_type": "code",
   "execution_count": 6,
   "metadata": {},
   "outputs": [
    {
     "name": "stdout",
     "output_type": "stream",
     "text": [
      "📥 Loading the Fraud Dataset...\n",
      "✅ Fraud Dataset loaded successfully!\n",
      "📥 Loading the Credit Card Dataset...\n",
      "✅ Credit Card Dataset loaded successfully!\n"
     ]
    }
   ],
   "source": [
    "# Create instances\n",
    "print(\"📥 Loading the Fraud Dataset...\")\n",
    "load_fraud = DatasetLoader('../data/processed_fraud_data.csv', logger=logger)\n",
    "print(\"✅ Fraud Dataset loaded successfully!\")\n",
    "\n",
    "print(\"📥 Loading the Credit Card Dataset...\")\n",
    "load_credit = DatasetLoader('../data/creditcard.csv', logger=logger)\n",
    "print(\"✅ Credit Card Dataset loaded successfully!\")"
   ]
  },
  {
   "cell_type": "code",
   "execution_count": 7,
   "metadata": {},
   "outputs": [
    {
     "name": "stdout",
     "output_type": "stream",
     "text": [
      "📂 Loading the Fraud Dataset...\n"
     ]
    },
    {
     "name": "stderr",
     "output_type": "stream",
     "text": [
      "2025-02-17 10:54:52,583 - logger - INFO - Dataset loaded successfully.\n",
      "INFO:logger:Dataset loaded successfully.\n"
     ]
    },
    {
     "name": "stdout",
     "output_type": "stream",
     "text": [
      "✅ Fraud Dataset loaded and indexed by 'user_id'!\n",
      "📂 Loading the Credit Card Dataset...\n"
     ]
    },
    {
     "name": "stderr",
     "output_type": "stream",
     "text": [
      "2025-02-17 10:54:54,296 - logger - INFO - Dataset loaded successfully.\n",
      "INFO:logger:Dataset loaded successfully.\n"
     ]
    },
    {
     "name": "stdout",
     "output_type": "stream",
     "text": [
      "✅ Credit Card Dataset loaded successfully!\n"
     ]
    }
   ],
   "source": [
    "# Load the datasets\n",
    "print(\"📂 Loading the Fraud Dataset...\")\n",
    "fraud_data = load_fraud.load_dataset().set_index('user_id')\n",
    "print(\"✅ Fraud Dataset loaded and indexed by 'user_id'!\")\n",
    "\n",
    "print(\"📂 Loading the Credit Card Dataset...\")\n",
    "credit_data = load_credit.load_dataset()\n",
    "print(\"✅ Credit Card Dataset loaded successfully!\")"
   ]
  },
  {
   "cell_type": "code",
   "execution_count": 8,
   "metadata": {},
   "outputs": [
    {
     "name": "stdout",
     "output_type": "stream",
     "text": [
      "         📊 Overview of Credit Data (First 10 Rows):\n",
      "=====================================================================\n"
     ]
    },
    {
     "data": {
      "text/html": [
       "<div>\n",
       "<style scoped>\n",
       "    .dataframe tbody tr th:only-of-type {\n",
       "        vertical-align: middle;\n",
       "    }\n",
       "\n",
       "    .dataframe tbody tr th {\n",
       "        vertical-align: top;\n",
       "    }\n",
       "\n",
       "    .dataframe thead th {\n",
       "        text-align: right;\n",
       "    }\n",
       "</style>\n",
       "<table border=\"1\" class=\"dataframe\">\n",
       "  <thead>\n",
       "    <tr style=\"text-align: right;\">\n",
       "      <th></th>\n",
       "      <th>Time</th>\n",
       "      <th>V1</th>\n",
       "      <th>V2</th>\n",
       "      <th>V3</th>\n",
       "      <th>V4</th>\n",
       "      <th>V5</th>\n",
       "      <th>V6</th>\n",
       "      <th>V7</th>\n",
       "      <th>V8</th>\n",
       "      <th>V9</th>\n",
       "      <th>V10</th>\n",
       "      <th>V11</th>\n",
       "      <th>V12</th>\n",
       "      <th>V13</th>\n",
       "      <th>V14</th>\n",
       "      <th>V15</th>\n",
       "      <th>V16</th>\n",
       "      <th>V17</th>\n",
       "      <th>V18</th>\n",
       "      <th>V19</th>\n",
       "      <th>V20</th>\n",
       "      <th>V21</th>\n",
       "      <th>V22</th>\n",
       "      <th>V23</th>\n",
       "      <th>V24</th>\n",
       "      <th>V25</th>\n",
       "      <th>V26</th>\n",
       "      <th>V27</th>\n",
       "      <th>V28</th>\n",
       "      <th>Amount</th>\n",
       "      <th>Class</th>\n",
       "    </tr>\n",
       "  </thead>\n",
       "  <tbody>\n",
       "    <tr>\n",
       "      <th>0</th>\n",
       "      <td>0.0</td>\n",
       "      <td>-1.359807</td>\n",
       "      <td>-0.072781</td>\n",
       "      <td>2.536347</td>\n",
       "      <td>1.378155</td>\n",
       "      <td>-0.338321</td>\n",
       "      <td>0.462388</td>\n",
       "      <td>0.239599</td>\n",
       "      <td>0.098698</td>\n",
       "      <td>0.363787</td>\n",
       "      <td>0.090794</td>\n",
       "      <td>-0.551600</td>\n",
       "      <td>-0.617801</td>\n",
       "      <td>-0.991390</td>\n",
       "      <td>-0.311169</td>\n",
       "      <td>1.468177</td>\n",
       "      <td>-0.470401</td>\n",
       "      <td>0.207971</td>\n",
       "      <td>0.025791</td>\n",
       "      <td>0.403993</td>\n",
       "      <td>0.251412</td>\n",
       "      <td>-0.018307</td>\n",
       "      <td>0.277838</td>\n",
       "      <td>-0.110474</td>\n",
       "      <td>0.066928</td>\n",
       "      <td>0.128539</td>\n",
       "      <td>-0.189115</td>\n",
       "      <td>0.133558</td>\n",
       "      <td>-0.021053</td>\n",
       "      <td>149.62</td>\n",
       "      <td>0</td>\n",
       "    </tr>\n",
       "    <tr>\n",
       "      <th>1</th>\n",
       "      <td>0.0</td>\n",
       "      <td>1.191857</td>\n",
       "      <td>0.266151</td>\n",
       "      <td>0.166480</td>\n",
       "      <td>0.448154</td>\n",
       "      <td>0.060018</td>\n",
       "      <td>-0.082361</td>\n",
       "      <td>-0.078803</td>\n",
       "      <td>0.085102</td>\n",
       "      <td>-0.255425</td>\n",
       "      <td>-0.166974</td>\n",
       "      <td>1.612727</td>\n",
       "      <td>1.065235</td>\n",
       "      <td>0.489095</td>\n",
       "      <td>-0.143772</td>\n",
       "      <td>0.635558</td>\n",
       "      <td>0.463917</td>\n",
       "      <td>-0.114805</td>\n",
       "      <td>-0.183361</td>\n",
       "      <td>-0.145783</td>\n",
       "      <td>-0.069083</td>\n",
       "      <td>-0.225775</td>\n",
       "      <td>-0.638672</td>\n",
       "      <td>0.101288</td>\n",
       "      <td>-0.339846</td>\n",
       "      <td>0.167170</td>\n",
       "      <td>0.125895</td>\n",
       "      <td>-0.008983</td>\n",
       "      <td>0.014724</td>\n",
       "      <td>2.69</td>\n",
       "      <td>0</td>\n",
       "    </tr>\n",
       "    <tr>\n",
       "      <th>2</th>\n",
       "      <td>1.0</td>\n",
       "      <td>-1.358354</td>\n",
       "      <td>-1.340163</td>\n",
       "      <td>1.773209</td>\n",
       "      <td>0.379780</td>\n",
       "      <td>-0.503198</td>\n",
       "      <td>1.800499</td>\n",
       "      <td>0.791461</td>\n",
       "      <td>0.247676</td>\n",
       "      <td>-1.514654</td>\n",
       "      <td>0.207643</td>\n",
       "      <td>0.624501</td>\n",
       "      <td>0.066084</td>\n",
       "      <td>0.717293</td>\n",
       "      <td>-0.165946</td>\n",
       "      <td>2.345865</td>\n",
       "      <td>-2.890083</td>\n",
       "      <td>1.109969</td>\n",
       "      <td>-0.121359</td>\n",
       "      <td>-2.261857</td>\n",
       "      <td>0.524980</td>\n",
       "      <td>0.247998</td>\n",
       "      <td>0.771679</td>\n",
       "      <td>0.909412</td>\n",
       "      <td>-0.689281</td>\n",
       "      <td>-0.327642</td>\n",
       "      <td>-0.139097</td>\n",
       "      <td>-0.055353</td>\n",
       "      <td>-0.059752</td>\n",
       "      <td>378.66</td>\n",
       "      <td>0</td>\n",
       "    </tr>\n",
       "    <tr>\n",
       "      <th>3</th>\n",
       "      <td>1.0</td>\n",
       "      <td>-0.966272</td>\n",
       "      <td>-0.185226</td>\n",
       "      <td>1.792993</td>\n",
       "      <td>-0.863291</td>\n",
       "      <td>-0.010309</td>\n",
       "      <td>1.247203</td>\n",
       "      <td>0.237609</td>\n",
       "      <td>0.377436</td>\n",
       "      <td>-1.387024</td>\n",
       "      <td>-0.054952</td>\n",
       "      <td>-0.226487</td>\n",
       "      <td>0.178228</td>\n",
       "      <td>0.507757</td>\n",
       "      <td>-0.287924</td>\n",
       "      <td>-0.631418</td>\n",
       "      <td>-1.059647</td>\n",
       "      <td>-0.684093</td>\n",
       "      <td>1.965775</td>\n",
       "      <td>-1.232622</td>\n",
       "      <td>-0.208038</td>\n",
       "      <td>-0.108300</td>\n",
       "      <td>0.005274</td>\n",
       "      <td>-0.190321</td>\n",
       "      <td>-1.175575</td>\n",
       "      <td>0.647376</td>\n",
       "      <td>-0.221929</td>\n",
       "      <td>0.062723</td>\n",
       "      <td>0.061458</td>\n",
       "      <td>123.50</td>\n",
       "      <td>0</td>\n",
       "    </tr>\n",
       "    <tr>\n",
       "      <th>4</th>\n",
       "      <td>2.0</td>\n",
       "      <td>-1.158233</td>\n",
       "      <td>0.877737</td>\n",
       "      <td>1.548718</td>\n",
       "      <td>0.403034</td>\n",
       "      <td>-0.407193</td>\n",
       "      <td>0.095921</td>\n",
       "      <td>0.592941</td>\n",
       "      <td>-0.270533</td>\n",
       "      <td>0.817739</td>\n",
       "      <td>0.753074</td>\n",
       "      <td>-0.822843</td>\n",
       "      <td>0.538196</td>\n",
       "      <td>1.345852</td>\n",
       "      <td>-1.119670</td>\n",
       "      <td>0.175121</td>\n",
       "      <td>-0.451449</td>\n",
       "      <td>-0.237033</td>\n",
       "      <td>-0.038195</td>\n",
       "      <td>0.803487</td>\n",
       "      <td>0.408542</td>\n",
       "      <td>-0.009431</td>\n",
       "      <td>0.798278</td>\n",
       "      <td>-0.137458</td>\n",
       "      <td>0.141267</td>\n",
       "      <td>-0.206010</td>\n",
       "      <td>0.502292</td>\n",
       "      <td>0.219422</td>\n",
       "      <td>0.215153</td>\n",
       "      <td>69.99</td>\n",
       "      <td>0</td>\n",
       "    </tr>\n",
       "    <tr>\n",
       "      <th>5</th>\n",
       "      <td>2.0</td>\n",
       "      <td>-0.425966</td>\n",
       "      <td>0.960523</td>\n",
       "      <td>1.141109</td>\n",
       "      <td>-0.168252</td>\n",
       "      <td>0.420987</td>\n",
       "      <td>-0.029728</td>\n",
       "      <td>0.476201</td>\n",
       "      <td>0.260314</td>\n",
       "      <td>-0.568671</td>\n",
       "      <td>-0.371407</td>\n",
       "      <td>1.341262</td>\n",
       "      <td>0.359894</td>\n",
       "      <td>-0.358091</td>\n",
       "      <td>-0.137134</td>\n",
       "      <td>0.517617</td>\n",
       "      <td>0.401726</td>\n",
       "      <td>-0.058133</td>\n",
       "      <td>0.068653</td>\n",
       "      <td>-0.033194</td>\n",
       "      <td>0.084968</td>\n",
       "      <td>-0.208254</td>\n",
       "      <td>-0.559825</td>\n",
       "      <td>-0.026398</td>\n",
       "      <td>-0.371427</td>\n",
       "      <td>-0.232794</td>\n",
       "      <td>0.105915</td>\n",
       "      <td>0.253844</td>\n",
       "      <td>0.081080</td>\n",
       "      <td>3.67</td>\n",
       "      <td>0</td>\n",
       "    </tr>\n",
       "    <tr>\n",
       "      <th>6</th>\n",
       "      <td>4.0</td>\n",
       "      <td>1.229658</td>\n",
       "      <td>0.141004</td>\n",
       "      <td>0.045371</td>\n",
       "      <td>1.202613</td>\n",
       "      <td>0.191881</td>\n",
       "      <td>0.272708</td>\n",
       "      <td>-0.005159</td>\n",
       "      <td>0.081213</td>\n",
       "      <td>0.464960</td>\n",
       "      <td>-0.099254</td>\n",
       "      <td>-1.416907</td>\n",
       "      <td>-0.153826</td>\n",
       "      <td>-0.751063</td>\n",
       "      <td>0.167372</td>\n",
       "      <td>0.050144</td>\n",
       "      <td>-0.443587</td>\n",
       "      <td>0.002821</td>\n",
       "      <td>-0.611987</td>\n",
       "      <td>-0.045575</td>\n",
       "      <td>-0.219633</td>\n",
       "      <td>-0.167716</td>\n",
       "      <td>-0.270710</td>\n",
       "      <td>-0.154104</td>\n",
       "      <td>-0.780055</td>\n",
       "      <td>0.750137</td>\n",
       "      <td>-0.257237</td>\n",
       "      <td>0.034507</td>\n",
       "      <td>0.005168</td>\n",
       "      <td>4.99</td>\n",
       "      <td>0</td>\n",
       "    </tr>\n",
       "    <tr>\n",
       "      <th>7</th>\n",
       "      <td>7.0</td>\n",
       "      <td>-0.644269</td>\n",
       "      <td>1.417964</td>\n",
       "      <td>1.074380</td>\n",
       "      <td>-0.492199</td>\n",
       "      <td>0.948934</td>\n",
       "      <td>0.428118</td>\n",
       "      <td>1.120631</td>\n",
       "      <td>-3.807864</td>\n",
       "      <td>0.615375</td>\n",
       "      <td>1.249376</td>\n",
       "      <td>-0.619468</td>\n",
       "      <td>0.291474</td>\n",
       "      <td>1.757964</td>\n",
       "      <td>-1.323865</td>\n",
       "      <td>0.686133</td>\n",
       "      <td>-0.076127</td>\n",
       "      <td>-1.222127</td>\n",
       "      <td>-0.358222</td>\n",
       "      <td>0.324505</td>\n",
       "      <td>-0.156742</td>\n",
       "      <td>1.943465</td>\n",
       "      <td>-1.015455</td>\n",
       "      <td>0.057504</td>\n",
       "      <td>-0.649709</td>\n",
       "      <td>-0.415267</td>\n",
       "      <td>-0.051634</td>\n",
       "      <td>-1.206921</td>\n",
       "      <td>-1.085339</td>\n",
       "      <td>40.80</td>\n",
       "      <td>0</td>\n",
       "    </tr>\n",
       "    <tr>\n",
       "      <th>8</th>\n",
       "      <td>7.0</td>\n",
       "      <td>-0.894286</td>\n",
       "      <td>0.286157</td>\n",
       "      <td>-0.113192</td>\n",
       "      <td>-0.271526</td>\n",
       "      <td>2.669599</td>\n",
       "      <td>3.721818</td>\n",
       "      <td>0.370145</td>\n",
       "      <td>0.851084</td>\n",
       "      <td>-0.392048</td>\n",
       "      <td>-0.410430</td>\n",
       "      <td>-0.705117</td>\n",
       "      <td>-0.110452</td>\n",
       "      <td>-0.286254</td>\n",
       "      <td>0.074355</td>\n",
       "      <td>-0.328783</td>\n",
       "      <td>-0.210077</td>\n",
       "      <td>-0.499768</td>\n",
       "      <td>0.118765</td>\n",
       "      <td>0.570328</td>\n",
       "      <td>0.052736</td>\n",
       "      <td>-0.073425</td>\n",
       "      <td>-0.268092</td>\n",
       "      <td>-0.204233</td>\n",
       "      <td>1.011592</td>\n",
       "      <td>0.373205</td>\n",
       "      <td>-0.384157</td>\n",
       "      <td>0.011747</td>\n",
       "      <td>0.142404</td>\n",
       "      <td>93.20</td>\n",
       "      <td>0</td>\n",
       "    </tr>\n",
       "    <tr>\n",
       "      <th>9</th>\n",
       "      <td>9.0</td>\n",
       "      <td>-0.338262</td>\n",
       "      <td>1.119593</td>\n",
       "      <td>1.044367</td>\n",
       "      <td>-0.222187</td>\n",
       "      <td>0.499361</td>\n",
       "      <td>-0.246761</td>\n",
       "      <td>0.651583</td>\n",
       "      <td>0.069539</td>\n",
       "      <td>-0.736727</td>\n",
       "      <td>-0.366846</td>\n",
       "      <td>1.017614</td>\n",
       "      <td>0.836390</td>\n",
       "      <td>1.006844</td>\n",
       "      <td>-0.443523</td>\n",
       "      <td>0.150219</td>\n",
       "      <td>0.739453</td>\n",
       "      <td>-0.540980</td>\n",
       "      <td>0.476677</td>\n",
       "      <td>0.451773</td>\n",
       "      <td>0.203711</td>\n",
       "      <td>-0.246914</td>\n",
       "      <td>-0.633753</td>\n",
       "      <td>-0.120794</td>\n",
       "      <td>-0.385050</td>\n",
       "      <td>-0.069733</td>\n",
       "      <td>0.094199</td>\n",
       "      <td>0.246219</td>\n",
       "      <td>0.083076</td>\n",
       "      <td>3.68</td>\n",
       "      <td>0</td>\n",
       "    </tr>\n",
       "  </tbody>\n",
       "</table>\n",
       "</div>"
      ],
      "text/plain": [
       "   Time        V1        V2        V3        V4        V5        V6        V7  \\\n",
       "0   0.0 -1.359807 -0.072781  2.536347  1.378155 -0.338321  0.462388  0.239599   \n",
       "1   0.0  1.191857  0.266151  0.166480  0.448154  0.060018 -0.082361 -0.078803   \n",
       "2   1.0 -1.358354 -1.340163  1.773209  0.379780 -0.503198  1.800499  0.791461   \n",
       "3   1.0 -0.966272 -0.185226  1.792993 -0.863291 -0.010309  1.247203  0.237609   \n",
       "4   2.0 -1.158233  0.877737  1.548718  0.403034 -0.407193  0.095921  0.592941   \n",
       "5   2.0 -0.425966  0.960523  1.141109 -0.168252  0.420987 -0.029728  0.476201   \n",
       "6   4.0  1.229658  0.141004  0.045371  1.202613  0.191881  0.272708 -0.005159   \n",
       "7   7.0 -0.644269  1.417964  1.074380 -0.492199  0.948934  0.428118  1.120631   \n",
       "8   7.0 -0.894286  0.286157 -0.113192 -0.271526  2.669599  3.721818  0.370145   \n",
       "9   9.0 -0.338262  1.119593  1.044367 -0.222187  0.499361 -0.246761  0.651583   \n",
       "\n",
       "         V8        V9       V10       V11       V12       V13       V14  \\\n",
       "0  0.098698  0.363787  0.090794 -0.551600 -0.617801 -0.991390 -0.311169   \n",
       "1  0.085102 -0.255425 -0.166974  1.612727  1.065235  0.489095 -0.143772   \n",
       "2  0.247676 -1.514654  0.207643  0.624501  0.066084  0.717293 -0.165946   \n",
       "3  0.377436 -1.387024 -0.054952 -0.226487  0.178228  0.507757 -0.287924   \n",
       "4 -0.270533  0.817739  0.753074 -0.822843  0.538196  1.345852 -1.119670   \n",
       "5  0.260314 -0.568671 -0.371407  1.341262  0.359894 -0.358091 -0.137134   \n",
       "6  0.081213  0.464960 -0.099254 -1.416907 -0.153826 -0.751063  0.167372   \n",
       "7 -3.807864  0.615375  1.249376 -0.619468  0.291474  1.757964 -1.323865   \n",
       "8  0.851084 -0.392048 -0.410430 -0.705117 -0.110452 -0.286254  0.074355   \n",
       "9  0.069539 -0.736727 -0.366846  1.017614  0.836390  1.006844 -0.443523   \n",
       "\n",
       "        V15       V16       V17       V18       V19       V20       V21  \\\n",
       "0  1.468177 -0.470401  0.207971  0.025791  0.403993  0.251412 -0.018307   \n",
       "1  0.635558  0.463917 -0.114805 -0.183361 -0.145783 -0.069083 -0.225775   \n",
       "2  2.345865 -2.890083  1.109969 -0.121359 -2.261857  0.524980  0.247998   \n",
       "3 -0.631418 -1.059647 -0.684093  1.965775 -1.232622 -0.208038 -0.108300   \n",
       "4  0.175121 -0.451449 -0.237033 -0.038195  0.803487  0.408542 -0.009431   \n",
       "5  0.517617  0.401726 -0.058133  0.068653 -0.033194  0.084968 -0.208254   \n",
       "6  0.050144 -0.443587  0.002821 -0.611987 -0.045575 -0.219633 -0.167716   \n",
       "7  0.686133 -0.076127 -1.222127 -0.358222  0.324505 -0.156742  1.943465   \n",
       "8 -0.328783 -0.210077 -0.499768  0.118765  0.570328  0.052736 -0.073425   \n",
       "9  0.150219  0.739453 -0.540980  0.476677  0.451773  0.203711 -0.246914   \n",
       "\n",
       "        V22       V23       V24       V25       V26       V27       V28  \\\n",
       "0  0.277838 -0.110474  0.066928  0.128539 -0.189115  0.133558 -0.021053   \n",
       "1 -0.638672  0.101288 -0.339846  0.167170  0.125895 -0.008983  0.014724   \n",
       "2  0.771679  0.909412 -0.689281 -0.327642 -0.139097 -0.055353 -0.059752   \n",
       "3  0.005274 -0.190321 -1.175575  0.647376 -0.221929  0.062723  0.061458   \n",
       "4  0.798278 -0.137458  0.141267 -0.206010  0.502292  0.219422  0.215153   \n",
       "5 -0.559825 -0.026398 -0.371427 -0.232794  0.105915  0.253844  0.081080   \n",
       "6 -0.270710 -0.154104 -0.780055  0.750137 -0.257237  0.034507  0.005168   \n",
       "7 -1.015455  0.057504 -0.649709 -0.415267 -0.051634 -1.206921 -1.085339   \n",
       "8 -0.268092 -0.204233  1.011592  0.373205 -0.384157  0.011747  0.142404   \n",
       "9 -0.633753 -0.120794 -0.385050 -0.069733  0.094199  0.246219  0.083076   \n",
       "\n",
       "   Amount  Class  \n",
       "0  149.62      0  \n",
       "1    2.69      0  \n",
       "2  378.66      0  \n",
       "3  123.50      0  \n",
       "4   69.99      0  \n",
       "5    3.67      0  \n",
       "6    4.99      0  \n",
       "7   40.80      0  \n",
       "8   93.20      0  \n",
       "9    3.68      0  "
      ]
     },
     "execution_count": 8,
     "metadata": {},
     "output_type": "execute_result"
    }
   ],
   "source": [
    "print(\"         📊 Overview of Credit Data (First 10 Rows):\")\n",
    "print(\"=====================================================================\")\n",
    "credit_data.head(10)"
   ]
  },
  {
   "cell_type": "code",
   "execution_count": 9,
   "metadata": {},
   "outputs": [
    {
     "name": "stdout",
     "output_type": "stream",
     "text": [
      "         📊 Overview of Fraud Data (First 10 Rows)\n",
      "=====================================================================\n"
     ]
    },
    {
     "data": {
      "text/html": [
       "<div>\n",
       "<style scoped>\n",
       "    .dataframe tbody tr th:only-of-type {\n",
       "        vertical-align: middle;\n",
       "    }\n",
       "\n",
       "    .dataframe tbody tr th {\n",
       "        vertical-align: top;\n",
       "    }\n",
       "\n",
       "    .dataframe thead th {\n",
       "        text-align: right;\n",
       "    }\n",
       "</style>\n",
       "<table border=\"1\" class=\"dataframe\">\n",
       "  <thead>\n",
       "    <tr style=\"text-align: right;\">\n",
       "      <th></th>\n",
       "      <th>purchase_value</th>\n",
       "      <th>age</th>\n",
       "      <th>class</th>\n",
       "      <th>fraud_rate</th>\n",
       "      <th>hour_of_day</th>\n",
       "      <th>day_of_week</th>\n",
       "      <th>purchase_delay</th>\n",
       "      <th>user_transaction_frequency</th>\n",
       "      <th>device_transaction_frequency</th>\n",
       "      <th>user_transaction_velocity</th>\n",
       "      <th>source_Direct</th>\n",
       "      <th>source_SEO</th>\n",
       "      <th>browser_FireFox</th>\n",
       "      <th>browser_IE</th>\n",
       "      <th>browser_Opera</th>\n",
       "      <th>browser_Safari</th>\n",
       "      <th>sex_M</th>\n",
       "    </tr>\n",
       "    <tr>\n",
       "      <th>user_id</th>\n",
       "      <th></th>\n",
       "      <th></th>\n",
       "      <th></th>\n",
       "      <th></th>\n",
       "      <th></th>\n",
       "      <th></th>\n",
       "      <th></th>\n",
       "      <th></th>\n",
       "      <th></th>\n",
       "      <th></th>\n",
       "      <th></th>\n",
       "      <th></th>\n",
       "      <th></th>\n",
       "      <th></th>\n",
       "      <th></th>\n",
       "      <th></th>\n",
       "      <th></th>\n",
       "    </tr>\n",
       "  </thead>\n",
       "  <tbody>\n",
       "    <tr>\n",
       "      <th>247547</th>\n",
       "      <td>0.549607</td>\n",
       "      <td>-0.363124</td>\n",
       "      <td>0</td>\n",
       "      <td>-0.233869</td>\n",
       "      <td>-1.231124</td>\n",
       "      <td>1.487911</td>\n",
       "      <td>-0.413800</td>\n",
       "      <td>0.0</td>\n",
       "      <td>-0.259874</td>\n",
       "      <td>-0.232945</td>\n",
       "      <td>0.0</td>\n",
       "      <td>1.0</td>\n",
       "      <td>0.0</td>\n",
       "      <td>0.0</td>\n",
       "      <td>0.0</td>\n",
       "      <td>1.0</td>\n",
       "      <td>0.0</td>\n",
       "    </tr>\n",
       "    <tr>\n",
       "      <th>220737</th>\n",
       "      <td>-1.197335</td>\n",
       "      <td>0.101168</td>\n",
       "      <td>0</td>\n",
       "      <td>-1.259767</td>\n",
       "      <td>1.229002</td>\n",
       "      <td>-0.505034</td>\n",
       "      <td>-1.180852</td>\n",
       "      <td>0.0</td>\n",
       "      <td>-0.259874</td>\n",
       "      <td>-0.232943</td>\n",
       "      <td>0.0</td>\n",
       "      <td>1.0</td>\n",
       "      <td>0.0</td>\n",
       "      <td>0.0</td>\n",
       "      <td>0.0</td>\n",
       "      <td>0.0</td>\n",
       "      <td>0.0</td>\n",
       "    </tr>\n",
       "    <tr>\n",
       "      <th>390400</th>\n",
       "      <td>0.385831</td>\n",
       "      <td>-0.479197</td>\n",
       "      <td>0</td>\n",
       "      <td>-0.354204</td>\n",
       "      <td>1.663142</td>\n",
       "      <td>0.989675</td>\n",
       "      <td>-0.936126</td>\n",
       "      <td>0.0</td>\n",
       "      <td>0.116936</td>\n",
       "      <td>-0.232944</td>\n",
       "      <td>0.0</td>\n",
       "      <td>0.0</td>\n",
       "      <td>0.0</td>\n",
       "      <td>1.0</td>\n",
       "      <td>0.0</td>\n",
       "      <td>0.0</td>\n",
       "      <td>1.0</td>\n",
       "    </tr>\n",
       "    <tr>\n",
       "      <th>69592</th>\n",
       "      <td>0.986342</td>\n",
       "      <td>-0.363124</td>\n",
       "      <td>0</td>\n",
       "      <td>-0.354204</td>\n",
       "      <td>0.650149</td>\n",
       "      <td>0.989675</td>\n",
       "      <td>0.867086</td>\n",
       "      <td>0.0</td>\n",
       "      <td>-0.259874</td>\n",
       "      <td>-0.232946</td>\n",
       "      <td>1.0</td>\n",
       "      <td>0.0</td>\n",
       "      <td>0.0</td>\n",
       "      <td>0.0</td>\n",
       "      <td>0.0</td>\n",
       "      <td>0.0</td>\n",
       "      <td>0.0</td>\n",
       "    </tr>\n",
       "    <tr>\n",
       "      <th>174987</th>\n",
       "      <td>0.767974</td>\n",
       "      <td>0.449387</td>\n",
       "      <td>0</td>\n",
       "      <td>-1.259767</td>\n",
       "      <td>-1.086411</td>\n",
       "      <td>-1.003270</td>\n",
       "      <td>1.700633</td>\n",
       "      <td>0.0</td>\n",
       "      <td>-0.259874</td>\n",
       "      <td>-0.232946</td>\n",
       "      <td>0.0</td>\n",
       "      <td>1.0</td>\n",
       "      <td>0.0</td>\n",
       "      <td>0.0</td>\n",
       "      <td>0.0</td>\n",
       "      <td>0.0</td>\n",
       "      <td>0.0</td>\n",
       "    </tr>\n",
       "    <tr>\n",
       "      <th>23204</th>\n",
       "      <td>-0.651416</td>\n",
       "      <td>1.145825</td>\n",
       "      <td>0</td>\n",
       "      <td>-0.354204</td>\n",
       "      <td>-1.086411</td>\n",
       "      <td>1.487911</td>\n",
       "      <td>-0.269035</td>\n",
       "      <td>0.0</td>\n",
       "      <td>-0.259874</td>\n",
       "      <td>-0.232945</td>\n",
       "      <td>0.0</td>\n",
       "      <td>0.0</td>\n",
       "      <td>0.0</td>\n",
       "      <td>1.0</td>\n",
       "      <td>0.0</td>\n",
       "      <td>0.0</td>\n",
       "      <td>0.0</td>\n",
       "    </tr>\n",
       "    <tr>\n",
       "      <th>155230</th>\n",
       "      <td>0.003687</td>\n",
       "      <td>1.494044</td>\n",
       "      <td>0</td>\n",
       "      <td>-1.259767</td>\n",
       "      <td>0.216009</td>\n",
       "      <td>-0.006798</td>\n",
       "      <td>0.281576</td>\n",
       "      <td>0.0</td>\n",
       "      <td>-0.259874</td>\n",
       "      <td>-0.232945</td>\n",
       "      <td>0.0</td>\n",
       "      <td>0.0</td>\n",
       "      <td>0.0</td>\n",
       "      <td>0.0</td>\n",
       "      <td>0.0</td>\n",
       "      <td>0.0</td>\n",
       "      <td>0.0</td>\n",
       "    </tr>\n",
       "    <tr>\n",
       "      <th>199369</th>\n",
       "      <td>0.331239</td>\n",
       "      <td>0.449387</td>\n",
       "      <td>0</td>\n",
       "      <td>0.121794</td>\n",
       "      <td>0.939575</td>\n",
       "      <td>1.487911</td>\n",
       "      <td>0.003344</td>\n",
       "      <td>0.0</td>\n",
       "      <td>0.116936</td>\n",
       "      <td>-0.232945</td>\n",
       "      <td>1.0</td>\n",
       "      <td>0.0</td>\n",
       "      <td>0.0</td>\n",
       "      <td>1.0</td>\n",
       "      <td>0.0</td>\n",
       "      <td>0.0</td>\n",
       "      <td>1.0</td>\n",
       "    </tr>\n",
       "    <tr>\n",
       "      <th>236894</th>\n",
       "      <td>-0.815192</td>\n",
       "      <td>-0.247051</td>\n",
       "      <td>0</td>\n",
       "      <td>0.121794</td>\n",
       "      <td>-1.520551</td>\n",
       "      <td>0.989675</td>\n",
       "      <td>-0.500649</td>\n",
       "      <td>0.0</td>\n",
       "      <td>-0.259874</td>\n",
       "      <td>-0.232945</td>\n",
       "      <td>0.0</td>\n",
       "      <td>0.0</td>\n",
       "      <td>0.0</td>\n",
       "      <td>0.0</td>\n",
       "      <td>0.0</td>\n",
       "      <td>0.0</td>\n",
       "      <td>1.0</td>\n",
       "    </tr>\n",
       "    <tr>\n",
       "      <th>379446</th>\n",
       "      <td>0.658790</td>\n",
       "      <td>-1.059563</td>\n",
       "      <td>0</td>\n",
       "      <td>0.121794</td>\n",
       "      <td>1.518428</td>\n",
       "      <td>0.491439</td>\n",
       "      <td>0.727620</td>\n",
       "      <td>0.0</td>\n",
       "      <td>0.116936</td>\n",
       "      <td>-0.232946</td>\n",
       "      <td>0.0</td>\n",
       "      <td>1.0</td>\n",
       "      <td>0.0</td>\n",
       "      <td>0.0</td>\n",
       "      <td>0.0</td>\n",
       "      <td>0.0</td>\n",
       "      <td>1.0</td>\n",
       "    </tr>\n",
       "  </tbody>\n",
       "</table>\n",
       "</div>"
      ],
      "text/plain": [
       "         purchase_value       age  class  fraud_rate  hour_of_day  \\\n",
       "user_id                                                             \n",
       "247547         0.549607 -0.363124      0   -0.233869    -1.231124   \n",
       "220737        -1.197335  0.101168      0   -1.259767     1.229002   \n",
       "390400         0.385831 -0.479197      0   -0.354204     1.663142   \n",
       "69592          0.986342 -0.363124      0   -0.354204     0.650149   \n",
       "174987         0.767974  0.449387      0   -1.259767    -1.086411   \n",
       "23204         -0.651416  1.145825      0   -0.354204    -1.086411   \n",
       "155230         0.003687  1.494044      0   -1.259767     0.216009   \n",
       "199369         0.331239  0.449387      0    0.121794     0.939575   \n",
       "236894        -0.815192 -0.247051      0    0.121794    -1.520551   \n",
       "379446         0.658790 -1.059563      0    0.121794     1.518428   \n",
       "\n",
       "         day_of_week  purchase_delay  user_transaction_frequency  \\\n",
       "user_id                                                            \n",
       "247547      1.487911       -0.413800                         0.0   \n",
       "220737     -0.505034       -1.180852                         0.0   \n",
       "390400      0.989675       -0.936126                         0.0   \n",
       "69592       0.989675        0.867086                         0.0   \n",
       "174987     -1.003270        1.700633                         0.0   \n",
       "23204       1.487911       -0.269035                         0.0   \n",
       "155230     -0.006798        0.281576                         0.0   \n",
       "199369      1.487911        0.003344                         0.0   \n",
       "236894      0.989675       -0.500649                         0.0   \n",
       "379446      0.491439        0.727620                         0.0   \n",
       "\n",
       "         device_transaction_frequency  user_transaction_velocity  \\\n",
       "user_id                                                            \n",
       "247547                      -0.259874                  -0.232945   \n",
       "220737                      -0.259874                  -0.232943   \n",
       "390400                       0.116936                  -0.232944   \n",
       "69592                       -0.259874                  -0.232946   \n",
       "174987                      -0.259874                  -0.232946   \n",
       "23204                       -0.259874                  -0.232945   \n",
       "155230                      -0.259874                  -0.232945   \n",
       "199369                       0.116936                  -0.232945   \n",
       "236894                      -0.259874                  -0.232945   \n",
       "379446                       0.116936                  -0.232946   \n",
       "\n",
       "         source_Direct  source_SEO  browser_FireFox  browser_IE  \\\n",
       "user_id                                                           \n",
       "247547             0.0         1.0              0.0         0.0   \n",
       "220737             0.0         1.0              0.0         0.0   \n",
       "390400             0.0         0.0              0.0         1.0   \n",
       "69592              1.0         0.0              0.0         0.0   \n",
       "174987             0.0         1.0              0.0         0.0   \n",
       "23204              0.0         0.0              0.0         1.0   \n",
       "155230             0.0         0.0              0.0         0.0   \n",
       "199369             1.0         0.0              0.0         1.0   \n",
       "236894             0.0         0.0              0.0         0.0   \n",
       "379446             0.0         1.0              0.0         0.0   \n",
       "\n",
       "         browser_Opera  browser_Safari  sex_M  \n",
       "user_id                                        \n",
       "247547             0.0             1.0    0.0  \n",
       "220737             0.0             0.0    0.0  \n",
       "390400             0.0             0.0    1.0  \n",
       "69592              0.0             0.0    0.0  \n",
       "174987             0.0             0.0    0.0  \n",
       "23204              0.0             0.0    0.0  \n",
       "155230             0.0             0.0    0.0  \n",
       "199369             0.0             0.0    1.0  \n",
       "236894             0.0             0.0    1.0  \n",
       "379446             0.0             0.0    1.0  "
      ]
     },
     "execution_count": 9,
     "metadata": {},
     "output_type": "execute_result"
    }
   ],
   "source": [
    "print(\"         📊 Overview of Fraud Data (First 10 Rows)\")\n",
    "print(\"=====================================================================\")\n",
    "fraud_data.head(10)"
   ]
  },
  {
   "cell_type": "code",
   "execution_count": 10,
   "metadata": {},
   "outputs": [
    {
     "name": "stdout",
     "output_type": "stream",
     "text": [
      "🔍 Understanding the Shapes of the Datasets:\n",
      "📊 Credit Data Shape: (284807, 31)\n",
      "📊 Fraud Data Shape: (129146, 17)\n"
     ]
    }
   ],
   "source": [
    "# Understand the shapes\n",
    "print(\"🔍 Understanding the Shapes of the Datasets:\")\n",
    "print(f\"📊 Credit Data Shape: {credit_data.shape}\")\n",
    "print(f\"📊 Fraud Data Shape: {fraud_data.shape}\")"
   ]
  },
  {
   "cell_type": "code",
   "execution_count": 11,
   "metadata": {},
   "outputs": [
    {
     "name": "stdout",
     "output_type": "stream",
     "text": [
      "🔍 Checking for Missing Values in Datasets:\n",
      "\n",
      "📊 Credit Data Missing Values:\n",
      "Time      0\n",
      "V1        0\n",
      "V2        0\n",
      "V3        0\n",
      "V4        0\n",
      "V5        0\n",
      "V6        0\n",
      "V7        0\n",
      "V8        0\n",
      "V9        0\n",
      "V10       0\n",
      "V11       0\n",
      "V12       0\n",
      "V13       0\n",
      "V14       0\n",
      "V15       0\n",
      "V16       0\n",
      "V17       0\n",
      "V18       0\n",
      "V19       0\n",
      "V20       0\n",
      "V21       0\n",
      "V22       0\n",
      "V23       0\n",
      "V24       0\n",
      "V25       0\n",
      "V26       0\n",
      "V27       0\n",
      "V28       0\n",
      "Amount    0\n",
      "Class     0\n",
      "dtype: int64\n",
      "📊 Fraud Data Missing Values:\n",
      "purchase_value                  0\n",
      "age                             0\n",
      "class                           0\n",
      "fraud_rate                      0\n",
      "hour_of_day                     0\n",
      "day_of_week                     0\n",
      "purchase_delay                  0\n",
      "user_transaction_frequency      0\n",
      "device_transaction_frequency    0\n",
      "user_transaction_velocity       0\n",
      "source_Direct                   0\n",
      "source_SEO                      0\n",
      "browser_FireFox                 0\n",
      "browser_IE                      0\n",
      "browser_Opera                   0\n",
      "browser_Safari                  0\n",
      "sex_M                           0\n",
      "dtype: int64\n"
     ]
    }
   ],
   "source": [
    "# Check for any missing values\n",
    "print(\"🔍 Checking for Missing Values in Datasets:\\n\")\n",
    "print(\"📊 Credit Data Missing Values:\")\n",
    "print(credit_data.isnull().sum())\n",
    "\n",
    "print(\"📊 Fraud Data Missing Values:\")\n",
    "print(fraud_data.isnull().sum())"
   ]
  },
  {
   "cell_type": "markdown",
   "metadata": {},
   "source": [
    "### **Data Preparation**"
   ]
  },
  {
   "cell_type": "code",
   "execution_count": 12,
   "metadata": {},
   "outputs": [
    {
     "data": {
      "image/png": "[encoded data removed]",
      "text/plain": [
       "<Figure size 1600x500 with 2 Axes>"
      ]
     },
     "metadata": {},
     "output_type": "display_data"
    }
   ],
   "source": [
    "from fraud_detection_pipeline import visualize_class_distributions\n",
    "\n",
    "# Load datasets\n",
    "fraud_data = pd.read_csv(\"../data/processed_fraud_data.csv\")\n",
    "credit_data = pd.read_csv(\"../data/creditcard.csv\")\n",
    "\n",
    "# Visualize class distributions\n",
    "visualize_class_distributions(fraud_data, credit_data)"
   ]
  },
  {
   "cell_type": "markdown",
   "metadata": {},
   "source": [
    "### **Class Imbalance Summary**\n",
    "\n",
    "**Fraud Ecommerce Dataset**\n",
    "- **Class 0 (non-fraudulent)**: 116,878 instances\n",
    "- **Class 1 (fraudulent)**: 12,268 instances\n",
    "- **Imbalance**: Significant, with Class 1 underrepresented.\n",
    "\n",
    "**Credit Card Bank Dataset**\n",
    "- **Class 0**: 284,315 instances\n",
    "- **Class 1**: 492 instances\n",
    "- **Imbalance**: Extreme, posing serious challenges.\n",
    "\n",
    "### **Implications**\n",
    "- **Biased Models**: Models may favor the majority class, resulting in poor detection of fraud.\n",
    "- **Underfitting/Overfitting**: Risk of models failing to generalize across classes.\n",
    "- **Evaluation Challenges**: Traditional metrics like accuracy can be misleading.\n",
    "\n",
    "### **Addressing Class Imbalance**\n",
    "- **Oversampling**: Increase minority class instances (e.g., SMOTE)."
   ]
  },
  {
   "cell_type": "code",
   "execution_count": 13,
   "metadata": {},
   "outputs": [],
   "source": [
    "from imblearn.over_sampling import SMOTE\n",
    "\n",
    "# Function to apply SMOTE\n",
    "def apply_smote(X_train, y_train):\n",
    "\n",
    "    # Apply SMOTE to the training set\n",
    "    smote = SMOTE(random_state=42)\n",
    "    X_resampled, y_resampled = smote.fit_resample(X_train, y_train)\n",
    "\n",
    "    return X_resampled, y_resampled"
   ]
  },
  {
   "cell_type": "markdown",
   "metadata": {},
   "source": [
    "**For creditcard dataset** (target column 'Class'):\n",
    "\n",
    "+ Separate Features and Target\n",
    "+ apply smote(class balancing technique)\n",
    "+ Split into train and test sets"
   ]
  },
  {
   "cell_type": "code",
   "execution_count": 14,
   "metadata": {},
   "outputs": [
    {
     "name": "stdout",
     "output_type": "stream",
     "text": [
      "🔄 Initializing Data Preparation...\n",
      "📊 Splitting the dataset into training and testing sets...\n",
      "Data split into training and testing sets successfully.\n",
      "\n",
      "📋 Training and Testing Data Summary:\n",
      "🟢 Training Features Shape: (227845, 30)\n",
      "🔴 Testing Features Shape: (56962, 30)\n",
      "🟢 Training Target Shape: (227845,)\n",
      "🔴 Testing Target Shape: (56962,)\n",
      "\n",
      "Credit Card Bank Dataset Class Distribution After SMOTE:\n",
      "Class\n",
      "0    227451\n",
      "1    227451\n",
      "Name: count, dtype: int64\n",
      "\n",
      "✅ Data preparation is complete! Ready for model training.\n"
     ]
    }
   ],
   "source": [
    "from data_preparation import DataPreparation\n",
    "\n",
    "# Assuming df_creditcard is the DataFrame for the credit card dataset\n",
    "print(\"🔄 Initializing Data Preparation...\")\n",
    "_creditcard = DataPreparation(credit_data, target_column='Class')\n",
    "\n",
    "print(\"📊 Splitting the dataset into training and testing sets...\")\n",
    "_creditcard.train_test_split(test_size=0.2, random_state=42)\n",
    "\n",
    "# Retrieving the train and test sets\n",
    "X_train_cc, X_test_cc, y_train_cc, y_test_cc = _creditcard.get_train_test_data()\n",
    "\n",
    "# Displaying the shapes of the resulting datasets\n",
    "print(\"\\n📋 Training and Testing Data Summary:\")\n",
    "print(f\"🟢 Training Features Shape: {X_train_cc.shape}\")\n",
    "print(f\"🔴 Testing Features Shape: {X_test_cc.shape}\")\n",
    "print(f\"🟢 Training Target Shape: {y_train_cc.shape}\")\n",
    "print(f\"🔴 Testing Target Shape: {y_test_cc.shape}\")\n",
    "\n",
    "# apply class balancing technique(SMOTE)\n",
    "\n",
    "# For Credit Card Bank Dataset\n",
    "X_credit_resampled, y_credit_resampled = apply_smote(X_train_cc, y_train_cc)\n",
    "\n",
    "print(\"\\nCredit Card Bank Dataset Class Distribution After SMOTE:\")\n",
    "print(pd.Series(y_credit_resampled).value_counts())\n",
    "\n",
    "print(\"\\n✅ Data preparation is complete! Ready for model training.\")"
   ]
  },
  {
   "cell_type": "markdown",
   "metadata": {},
   "source": [
    "**For Fraud_Data dataset** (target column 'class'):\n",
    "\n",
    "+ Separate Features and Target\n",
    "+ Split into train and test sets\n",
    "+ Apply class balancing technique(SMOTE)"
   ]
  },
  {
   "cell_type": "code",
   "execution_count": 15,
   "metadata": {},
   "outputs": [
    {
     "name": "stdout",
     "output_type": "stream",
     "text": [
      "🔄 Initializing Data Preparation for Fraud Dataset...\n",
      "📊 Splitting the Fraud Dataset into Training and Testing Sets...\n",
      "Data split into training and testing sets successfully.\n",
      "\n",
      "📋 Fraud Dataset Train and Test Data Summary:\n",
      "🟢 Training Features Shape: (103316, 17)\n",
      "🔴 Testing Features Shape: (25830, 17)\n",
      "🟢 Training Target Shape: (103316,)\n",
      "🔴 Testing Target Shape: (25830,)\n",
      "Fraud Ecommerce Dataset Class Distribution After SMOTE:\n",
      "class\n",
      "0    93456\n",
      "1    93456\n",
      "Name: count, dtype: int64\n",
      "✅ Data preparation for Fraud Dataset is complete! Ready for model training.\n"
     ]
    }
   ],
   "source": [
    "print(\"🔄 Initializing Data Preparation for Fraud Dataset...\")\n",
    "_fraud = DataPreparation(fraud_data, target_column=\"class\")\n",
    "\n",
    "print(\"📊 Splitting the Fraud Dataset into Training and Testing Sets...\")\n",
    "_fraud.train_test_split(test_size=0.2, random_state=42)\n",
    "\n",
    "# Retrieving the train and test sets\n",
    "X_train_fd, X_test_fd, y_train_fd, y_test_fd = _fraud.get_train_test_data()\n",
    "\n",
    "# Displaying the shapes of the resulting datasets\n",
    "print(\"\\n📋 Fraud Dataset Train and Test Data Summary:\")\n",
    "print(f\"🟢 Training Features Shape: {X_train_fd.shape}\")\n",
    "print(f\"🔴 Testing Features Shape: {X_test_fd.shape}\")\n",
    "print(f\"🟢 Training Target Shape: {y_train_fd.shape}\")\n",
    "print(f\"🔴 Testing Target Shape: {y_test_fd.shape}\")\n",
    "\n",
    "# Apply class balancing technique(SMOTE)\n",
    "X_fraud_resampled, y_fraud_resampled = apply_smote(X_train_fd, y_train_fd)\n",
    "# Check the class distribution after SMOTE\n",
    "print(\"Fraud Ecommerce Dataset Class Distribution After SMOTE:\")\n",
    "print(pd.Series(y_fraud_resampled).value_counts())\n",
    "\n",
    "print(\"✅ Data preparation for Fraud Dataset is complete! Ready for model training.\")"
   ]
  },
  {
   "cell_type": "markdown",
   "metadata": {},
   "source": [
    "### Model Selection\n",
    "- Import ModelPipeline class from model_pipeline\n",
    "- Train multiple models\n",
    "- hyperparameter tune\n",
    "- evaluate the model\n",
    "- compare the model"
   ]
  },
  {
   "cell_type": "code",
   "execution_count": 16,
   "metadata": {},
   "outputs": [
    {
     "name": "stdout",
     "output_type": "stream",
     "text": [
      "🚫 Disabling GPU for this session...\n",
      "📦 Importing the Fraud Detection Pipeline...\n",
      "✅ Fraud Detection Pipeline imported successfully!\n"
     ]
    }
   ],
   "source": [
    "import os\n",
    "\n",
    "# Disable GPU usage\n",
    "print(\"🚫 Disabling GPU for this session...\")\n",
    "os.environ['CUDA_VISIBLE_DEVICES'] = '-1' \n",
    "\n",
    "# Import the Fraud Detection Pipeline class\n",
    "print(\"📦 Importing the Fraud Detection Pipeline...\")\n",
    "from fraud_detection_pipeline import FraudDetectionPipeline\n",
    "print(\"✅ Fraud Detection Pipeline imported successfully!\")"
   ]
  },
  {
   "cell_type": "markdown",
   "metadata": {},
   "source": [
    "### **Training and Evaluation of Models on the E-commerce Fraud Dataset**"
   ]
  },
  {
   "cell_type": "code",
   "execution_count": 17,
   "metadata": {},
   "outputs": [
    {
     "name": "stdout",
     "output_type": "stream",
     "text": [
      "🔧 Creating an instance of the Fraud Detection Pipeline...\n",
      "✅ Instance created successfully!\n",
      "📈 Training and Evaluating the Models...\n",
      "Tuning Random Forest...\n",
      "Best parameters for Random Forest: {'classifier__max_depth': 5, 'classifier__n_estimators': 100}\n",
      "Tuning Gradient Boosting...\n",
      "Best parameters for Gradient Boosting: {'classifier__learning_rate': 0.01, 'classifier__n_estimators': 100}\n",
      "Random Forest trained in 16.41 seconds\n"
     ]
    },
    {
     "name": "stderr",
     "output_type": "stream",
     "text": [
      "2025/02/17 11:02:33 WARNING mlflow.models.model: Model logged without a signature and input example. Please set `input_example` parameter when logging the model to auto infer the model signature.\n",
      "Registered model 'Random Forest' already exists. Creating a new version of this model...\n",
      "Created version '4' of model 'Random Forest'.\n"
     ]
    },
    {
     "name": "stdout",
     "output_type": "stream",
     "text": [
      "Random Forest logged in MLflow\n",
      "Gradient Boosting trained in 56.85 seconds\n"
     ]
    },
    {
     "name": "stderr",
     "output_type": "stream",
     "text": [
      "2025/02/17 11:03:34 WARNING mlflow.models.model: Model logged without a signature and input example. Please set `input_example` parameter when logging the model to auto infer the model signature.\n",
      "Registered model 'Gradient Boosting' already exists. Creating a new version of this model...\n",
      "Created version '4' of model 'Gradient Boosting'.\n"
     ]
    },
    {
     "name": "stdout",
     "output_type": "stream",
     "text": [
      "Gradient Boosting logged in MLflow\n",
      "\u001b[1m808/808\u001b[0m \u001b[32m━━━━━━━━━━━━━━━━━━━━\u001b[0m\u001b[37m\u001b[0m \u001b[1m2s\u001b[0m 2ms/step\n"
     ]
    },
    {
     "name": "stderr",
     "output_type": "stream",
     "text": [
      "2025/02/17 11:07:01 WARNING mlflow.keras.save: You are saving a Keras model without specifying model signature.\n"
     ]
    },
    {
     "name": "stdout",
     "output_type": "stream",
     "text": [
      "LSTM trained in 206.49 seconds\n"
     ]
    },
    {
     "name": "stderr",
     "output_type": "stream",
     "text": [
      "2025/02/17 11:07:09 WARNING mlflow.models.model: Model logged without a signature and input example. Please set `input_example` parameter when logging the model to auto infer the model signature.\n",
      "Registered model 'LSTM' already exists. Creating a new version of this model...\n",
      "Created version '4' of model 'LSTM'.\n"
     ]
    },
    {
     "name": "stdout",
     "output_type": "stream",
     "text": [
      "LSTM logged in MLflow\n",
      "\u001b[1m808/808\u001b[0m \u001b[32m━━━━━━━━━━━━━━━━━━━━\u001b[0m\u001b[37m\u001b[0m \u001b[1m3s\u001b[0m 3ms/step\n"
     ]
    },
    {
     "name": "stderr",
     "output_type": "stream",
     "text": [
      "2025/02/17 11:07:38 WARNING mlflow.keras.save: You are saving a Keras model without specifying model signature.\n"
     ]
    },
    {
     "name": "stdout",
     "output_type": "stream",
     "text": [
      "CNN trained in 28.88 seconds\n"
     ]
    },
    {
     "name": "stderr",
     "output_type": "stream",
     "text": [
      "2025/02/17 11:07:59 WARNING mlflow.models.model: Model logged without a signature and input example. Please set `input_example` parameter when logging the model to auto infer the model signature.\n",
      "Registered model 'CNN' already exists. Creating a new version of this model...\n",
      "Created version '4' of model 'CNN'.\n"
     ]
    },
    {
     "name": "stdout",
     "output_type": "stream",
     "text": [
      "CNN logged in MLflow\n",
      "🏆 Best Model: Random Forest selected.\n",
      "💾 Saving the best model...\n",
      "Best model (Random Forest) saved at ../app/random_forest_fraud_best_model.pkl\n",
      "✅ Best model saved successfully!\n"
     ]
    }
   ],
   "source": [
    "# Create an instance of the fraud detection pipeline\n",
    "print(\"🔧 Creating an instance of the Fraud Detection Pipeline...\")\n",
    "model_pipeline = FraudDetectionPipeline(X_train_fd, X_test_fd, y_train_fd, y_test_fd)\n",
    "print(\"✅ Instance created successfully!\")\n",
    "\n",
    "# Add models to the pipeline\n",
    "# print(\"➕ Adding models to the pipeline...\")\n",
    "# model_pipeline.add_models()\n",
    "# print(\"✅ Models added successfully!\")\n",
    "\n",
    "# Train and evaluate the models, logging with MLflow\n",
    "print(\"📈 Training and Evaluating the Models...\")\n",
    "best_model, best_model_name = model_pipeline.train_and_evaluate()\n",
    "print(f\"🏆 Best Model: {best_model_name} selected.\")\n",
    "\n",
    "# Save the best model\n",
    "print(\"💾 Saving the best model...\")\n",
    "model_pipeline.save_best_model(best_model, best_model_name, 'fraud')\n",
    "print(\"✅ Best model saved successfully!\")"
   ]
  },
  {
   "cell_type": "code",
   "execution_count": 19,
   "metadata": {},
   "outputs": [
    {
     "data": {
      "text/plain": [
       "(Pipeline(steps=[('scaler', StandardScaler()),\n",
       "                 ('classifier', RandomForestClassifier(max_depth=5))]),\n",
       " 'Random Forest')"
      ]
     },
     "execution_count": 19,
     "metadata": {},
     "output_type": "execute_result"
    }
   ],
   "source": [
    "best_model, best_model_name"
   ]
  },
  {
   "cell_type": "code",
   "execution_count": 20,
   "metadata": {},
   "outputs": [],
   "source": [
    "# Get the results \n",
    "results_fraud, y_probs_fraud = model_pipeline.get_results()"
   ]
  },
  {
   "cell_type": "code",
   "execution_count": 21,
   "metadata": {},
   "outputs": [
    {
     "data": {
      "text/html": [
       "<div>\n",
       "<style scoped>\n",
       "    .dataframe tbody tr th:only-of-type {\n",
       "        vertical-align: middle;\n",
       "    }\n",
       "\n",
       "    .dataframe tbody tr th {\n",
       "        vertical-align: top;\n",
       "    }\n",
       "\n",
       "    .dataframe thead th {\n",
       "        text-align: right;\n",
       "    }\n",
       "</style>\n",
       "<table border=\"1\" class=\"dataframe\">\n",
       "  <thead>\n",
       "    <tr style=\"text-align: right;\">\n",
       "      <th></th>\n",
       "      <th>Accuracy</th>\n",
       "      <th>Precision</th>\n",
       "      <th>Recall</th>\n",
       "      <th>F1 Score</th>\n",
       "      <th>ROC AUC</th>\n",
       "    </tr>\n",
       "  </thead>\n",
       "  <tbody>\n",
       "    <tr>\n",
       "      <th>Random Forest</th>\n",
       "      <td>0.956911</td>\n",
       "      <td>1.000000</td>\n",
       "      <td>0.537791</td>\n",
       "      <td>0.699433</td>\n",
       "      <td>0.837199</td>\n",
       "    </tr>\n",
       "    <tr>\n",
       "      <th>Gradient Boosting</th>\n",
       "      <td>0.956911</td>\n",
       "      <td>1.000000</td>\n",
       "      <td>0.537791</td>\n",
       "      <td>0.699433</td>\n",
       "      <td>0.834449</td>\n",
       "    </tr>\n",
       "    <tr>\n",
       "      <th>LSTM</th>\n",
       "      <td>0.956911</td>\n",
       "      <td>1.000000</td>\n",
       "      <td>0.537791</td>\n",
       "      <td>0.699433</td>\n",
       "      <td>0.833206</td>\n",
       "    </tr>\n",
       "    <tr>\n",
       "      <th>CNN</th>\n",
       "      <td>0.955904</td>\n",
       "      <td>0.971047</td>\n",
       "      <td>0.543189</td>\n",
       "      <td>0.696671</td>\n",
       "      <td>0.774738</td>\n",
       "    </tr>\n",
       "  </tbody>\n",
       "</table>\n",
       "</div>"
      ],
      "text/plain": [
       "                   Accuracy  Precision    Recall  F1 Score   ROC AUC\n",
       "Random Forest      0.956911   1.000000  0.537791  0.699433  0.837199\n",
       "Gradient Boosting  0.956911   1.000000  0.537791  0.699433  0.834449\n",
       "LSTM               0.956911   1.000000  0.537791  0.699433  0.833206\n",
       "CNN                0.955904   0.971047  0.543189  0.696671  0.774738"
      ]
     },
     "execution_count": 21,
     "metadata": {},
     "output_type": "execute_result"
    }
   ],
   "source": [
    "pd.DataFrame(results_fraud).T"
   ]
  },
  {
   "cell_type": "code",
   "execution_count": 22,
   "metadata": {},
   "outputs": [
    {
     "data": {
      "image/png": "[encoded data removed]",
      "text/plain": [
       "<Figure size 1000x400 with 1 Axes>"
      ]
     },
     "metadata": {},
     "output_type": "display_data"
    }
   ],
   "source": [
    "import matplotlib.pyplot as plt\n",
    "from sklearn.metrics import roc_curve, auc\n",
    "\n",
    "def plot_roc_curves(y_true, y_probs_dict):\n",
    "    \"\"\"\n",
    "    Plots ROC curves for multiple models based on predicted probabilities.\n",
    "    \n",
    "    Parameters:\n",
    "    - y_true: array-like, shape (n_samples,) - True binary labels (0 for non-fraud, 1 for fraud).\n",
    "    - y_probs_dict: dict - Dictionary with model names as keys and predicted probabilities as values.\n",
    "    \n",
    "    Returns:\n",
    "    - None\n",
    "    \"\"\"\n",
    "    plt.figure(figsize=(10, 4))\n",
    "\n",
    "    # Loop through each model's predicted probabilities\n",
    "    for model_name, probs in y_probs_dict.items():\n",
    "        fpr, tpr, _ = roc_curve(y_true, probs)\n",
    "        roc_auc = auc(fpr, tpr)\n",
    "        \n",
    "        # Plot ROC curve for each model\n",
    "        plt.plot(fpr, tpr, label=f'{model_name} (AUC = {roc_auc:.2f})')\n",
    "\n",
    "    # Plot settings\n",
    "    plt.plot([0, 1], [0, 1], 'k--')  \n",
    "    plt.xlim([0.0, 1.0])\n",
    "    plt.ylim([0.0, 1.05])\n",
    "    plt.xlabel('False Positive Rate')\n",
    "    plt.ylabel('True Positive Rate')\n",
    "    plt.title('Receiver Operating Characteristic (ROC) Curve')\n",
    "    plt.legend(loc='lower right')\n",
    "    plt.grid()\n",
    "    plt.show()\n",
    "\n",
    "# Plot roc auc of fraud:\n",
    "plot_roc_curves(y_test_fd, y_probs_fraud)"
   ]
  },
  {
   "cell_type": "markdown",
   "metadata": {},
   "source": [
    "### **Training and Evaluation of Models on the Creditcard Dataset**"
   ]
  },
  {
   "cell_type": "code",
   "execution_count": 23,
   "metadata": {},
   "outputs": [
    {
     "name": "stdout",
     "output_type": "stream",
     "text": [
      "🔧 Creating an instance of the Creditcard Detection Pipeline...\n",
      "✅ Instance created successfully!\n",
      "➕ Adding models to the pipeline...\n",
      "✅ Models added successfully!\n",
      "📈 Training and Evaluating the Models...\n",
      "Tuning Random Forest...\n",
      "Best parameters for Random Forest: {'classifier__max_depth': None, 'classifier__n_estimators': 100}\n",
      "Tuning Gradient Boosting...\n",
      "Best parameters for Gradient Boosting: {'classifier__learning_rate': 0.1, 'classifier__n_estimators': 100}\n",
      "Random Forest trained in 603.89 seconds\n"
     ]
    },
    {
     "name": "stderr",
     "output_type": "stream",
     "text": [
      "2025/02/17 12:25:12 WARNING mlflow.models.model: Model logged without a signature and input example. Please set `input_example` parameter when logging the model to auto infer the model signature.\n",
      "Registered model 'Random Forest' already exists. Creating a new version of this model...\n",
      "Created version '5' of model 'Random Forest'.\n"
     ]
    },
    {
     "name": "stdout",
     "output_type": "stream",
     "text": [
      "Random Forest logged in MLflow\n",
      "Gradient Boosting trained in 1150.38 seconds\n"
     ]
    },
    {
     "name": "stderr",
     "output_type": "stream",
     "text": [
      "2025/02/17 12:44:27 WARNING mlflow.models.model: Model logged without a signature and input example. Please set `input_example` parameter when logging the model to auto infer the model signature.\n",
      "Registered model 'Gradient Boosting' already exists. Creating a new version of this model...\n",
      "Created version '5' of model 'Gradient Boosting'.\n"
     ]
    },
    {
     "name": "stdout",
     "output_type": "stream",
     "text": [
      "Gradient Boosting logged in MLflow\n",
      "\u001b[1m1781/1781\u001b[0m \u001b[32m━━━━━━━━━━━━━━━━━━━━\u001b[0m\u001b[37m\u001b[0m \u001b[1m11s\u001b[0m 6ms/step\n"
     ]
    },
    {
     "name": "stderr",
     "output_type": "stream",
     "text": [
      "2025/02/17 12:59:18 WARNING mlflow.keras.save: You are saving a Keras model without specifying model signature.\n"
     ]
    },
    {
     "name": "stdout",
     "output_type": "stream",
     "text": [
      "LSTM trained in 890.79 seconds\n"
     ]
    },
    {
     "name": "stderr",
     "output_type": "stream",
     "text": [
      "2025/02/17 12:59:29 WARNING mlflow.models.model: Model logged without a signature and input example. Please set `input_example` parameter when logging the model to auto infer the model signature.\n",
      "Registered model 'LSTM' already exists. Creating a new version of this model...\n",
      "Created version '5' of model 'LSTM'.\n"
     ]
    },
    {
     "name": "stdout",
     "output_type": "stream",
     "text": [
      "LSTM logged in MLflow\n",
      "\u001b[1m1781/1781\u001b[0m \u001b[32m━━━━━━━━━━━━━━━━━━━━\u001b[0m\u001b[37m\u001b[0m \u001b[1m3s\u001b[0m 1ms/step\n"
     ]
    },
    {
     "name": "stderr",
     "output_type": "stream",
     "text": [
      "2025/02/17 13:02:51 WARNING mlflow.keras.save: You are saving a Keras model without specifying model signature.\n"
     ]
    },
    {
     "name": "stdout",
     "output_type": "stream",
     "text": [
      "CNN trained in 202.29 seconds\n"
     ]
    },
    {
     "name": "stderr",
     "output_type": "stream",
     "text": [
      "2025/02/17 13:02:59 WARNING mlflow.models.model: Model logged without a signature and input example. Please set `input_example` parameter when logging the model to auto infer the model signature.\n"
     ]
    },
    {
     "name": "stdout",
     "output_type": "stream",
     "text": [
      "CNN logged in MLflow\n",
      "🏆 Best Model: Gradient Boosting selected.\n",
      "💾 Saving the best model...\n",
      "Best model (Gradient Boosting) saved at ../app/gradient_boosting_creditcard_best_model.pkl\n",
      "✅ Best model saved successfully!\n"
     ]
    },
    {
     "name": "stderr",
     "output_type": "stream",
     "text": [
      "Registered model 'CNN' already exists. Creating a new version of this model...\n",
      "Created version '5' of model 'CNN'.\n"
     ]
    }
   ],
   "source": [
    "# Create an instance of the fraud detection pipeline\n",
    "print(\"🔧 Creating an instance of the Creditcard Detection Pipeline...\")\n",
    "model_pipeline = FraudDetectionPipeline(X_credit_resampled, X_test_cc, y_credit_resampled, y_test_cc)\n",
    "print(\"✅ Instance created successfully!\")\n",
    "\n",
    "# Add models to the pipeline\n",
    "print(\"➕ Adding models to the pipeline...\")\n",
    "model_pipeline.add_models()\n",
    "print(\"✅ Models added successfully!\")\n",
    "\n",
    "# Train and evaluate the models, logging with MLflow\n",
    "print(\"📈 Training and Evaluating the Models...\")\n",
    "best_model, best_model_name = model_pipeline.train_and_evaluate()\n",
    "print(f\"🏆 Best Model: {best_model_name} selected.\")\n",
    "\n",
    "# Save the best model\n",
    "print(\"💾 Saving the best model...\")\n",
    "model_pipeline.save_best_model(best_model, best_model_name, 'creditcard')\n",
    "print(\"✅ Best model saved successfully!\")"
   ]
  },
  {
   "cell_type": "code",
   "execution_count": 24,
   "metadata": {},
   "outputs": [],
   "source": [
    "# Get the results \n",
    "results_creditcard, y_probs_credicard = model_pipeline.get_results()"
   ]
  },
  {
   "cell_type": "code",
   "execution_count": 25,
   "metadata": {},
   "outputs": [],
   "source": [
    "result = pd.DataFrame(results_creditcard).T"
   ]
  },
  {
   "cell_type": "code",
   "execution_count": 26,
   "metadata": {},
   "outputs": [
    {
     "data": {
      "image/png": "[encoded data removed]",
      "text/plain": [
       "<Figure size 1000x400 with 1 Axes>"
      ]
     },
     "metadata": {},
     "output_type": "display_data"
    }
   ],
   "source": [
    "# Plot roc auc of fraud:\n",
    "plot_roc_curves(y_test_cc, y_probs_credicard)"
   ]
  },
  {
   "cell_type": "markdown",
   "metadata": {},
   "source": [
    "### **Fraud Detection Model with MLflow**"
   ]
  },
  {
   "cell_type": "code",
   "execution_count": 28,
   "metadata": {},
   "outputs": [],
   "source": [
    "import mlflow\n",
    "import mlflow.sklearn\n",
    "import mlflow.keras"
   ]
  },
  {
   "cell_type": "markdown",
   "metadata": {},
   "source": [
    "### **Random Forest with MLflow**"
   ]
  },
  {
   "cell_type": "code",
   "execution_count": 29,
   "metadata": {},
   "outputs": [
    {
     "name": "stderr",
     "output_type": "stream",
     "text": [
      "2025/02/17 13:05:48 WARNING mlflow.models.model: Model logged without a signature and input example. Please set `input_example` parameter when logging the model to auto infer the model signature.\n",
      "Registered model 'Fraud_Detection_Model' already exists. Creating a new version of this model...\n",
      "2025/02/17 13:05:48 INFO mlflow.store.model_registry.abstract_store: Waiting up to 300 seconds for model version to finish creation. Model name: Fraud_Detection_Model, version 3\n"
     ]
    },
    {
     "name": "stdout",
     "output_type": "stream",
     "text": [
      "✅ Model training complete. Metrics logged in MLflow.\n",
      "🏃 View run f38fb132d6cd4d1fa7fe4642e591cae0 at: http://127.0.0.1:5000/#/experiments/254910024325914828/runs/f38fb132d6cd4d1fa7fe4642e591cae0\n",
      "🏃 View run FraudDetectionRun at: http://127.0.0.1:5000/#/experiments/254910024325914828/runs/f38fb132d6cd4d1fa7fe4642e591cae0\n",
      "🧪 View experiment at: http://127.0.0.1:5000/#/experiments/254910024325914828\n",
      "✅ Model registered successfully!\n"
     ]
    },
    {
     "name": "stderr",
     "output_type": "stream",
     "text": [
      "Created version '3' of model 'Fraud_Detection_Model'.\n"
     ]
    }
   ],
   "source": [
    "mlflow.set_tracking_uri(\"http://127.0.0.1:5000\")  \n",
    "mlflow.set_experiment(\"Fraud Detection Experiment\")\n",
    "\n",
    "with mlflow.start_run(run_name=\"FraudDetectionRun\") as run:  # Capture run object\n",
    "    # Log model hyperparameters\n",
    "    mlflow.log_params({\n",
    "        \"model_type\": \"Random Forest\",\n",
    "        \"n_estimators\": 50,\n",
    "        \"max_depth\": 5\n",
    "    })\n",
    "\n",
    "    # Train the model\n",
    "    from sklearn.ensemble import RandomForestClassifier\n",
    "    from sklearn.metrics import accuracy_score, precision_score, recall_score, f1_score, roc_auc_score\n",
    "\n",
    "    rf_model = RandomForestClassifier(n_estimators=50, max_depth=5)\n",
    "    rf_model.fit(X_fraud_resampled, y_fraud_resampled)\n",
    "\n",
    "    # Make predictions\n",
    "    y_pred = rf_model.predict(X_test_fd)\n",
    "    y_prob = rf_model.predict_proba(X_test_fd)[:, 1]\n",
    "\n",
    "    # Evaluate Model\n",
    "    metrics = {\n",
    "        \"accuracy\": accuracy_score(y_test_fd, y_pred),\n",
    "        \"precision\": precision_score(y_test_fd, y_pred),\n",
    "        \"recall\": recall_score(y_test_fd, y_pred),\n",
    "        \"f1_score\": f1_score(y_test_fd, y_pred),\n",
    "        \"roc_auc\": roc_auc_score(y_test_fd, y_prob),\n",
    "    }\n",
    "\n",
    "    # Log evaluation metrics\n",
    "    mlflow.log_metrics(metrics)\n",
    "\n",
    "    # Log the model\n",
    "    mlflow.sklearn.log_model(rf_model, \"random_forest_model\")\n",
    "\n",
    "    print(f\"✅ Model training complete. Metrics logged in MLflow.\")\n",
    "    print(f\"🏃 View run {run.info.run_id} at: http://127.0.0.1:5000/#/experiments/{run.info.experiment_id}/runs/{run.info.run_id}\")\n",
    "\n",
    "# 🛠 Use `run.info.run_id` instead of `mlflow.active_run()`\n",
    "mlflow.register_model(\n",
    "    f\"runs:/{run.info.run_id}/random_forest_model\", \"Fraud_Detection_Model\"\n",
    ")\n",
    "\n",
    "print(\"✅ Model registered successfully!\")\n"
   ]
  },
  {
   "cell_type": "markdown",
   "metadata": {},
   "source": [
    "### **Gradient Boosting with MLflow**"
   ]
  },
  {
   "cell_type": "code",
   "execution_count": 32,
   "metadata": {},
   "outputs": [
    {
     "name": "stderr",
     "output_type": "stream",
     "text": [
      "2025/02/17 13:23:01 INFO mlflow.tracking.fluent: Experiment with name 'Credit Card Experiment' does not exist. Creating a new experiment.\n"
     ]
    },
    {
     "name": "stderr",
     "output_type": "stream",
     "text": [
      "2025/02/17 13:24:08 WARNING mlflow.models.model: Model logged without a signature and input example. Please set `input_example` parameter when logging the model to auto infer the model signature.\n",
      "Registered model 'Fraud_Detection_GradientBoosting' already exists. Creating a new version of this model...\n",
      "2025/02/17 13:24:08 INFO mlflow.store.model_registry.abstract_store: Waiting up to 300 seconds for model version to finish creation. Model name: Fraud_Detection_GradientBoosting, version 3\n"
     ]
    },
    {
     "name": "stdout",
     "output_type": "stream",
     "text": [
      "✅ Gradient Boosting model training complete. Metrics logged in MLflow.\n",
      "🏃 View run at: http://127.0.0.1:5000/#/experiments/603297369034649042/runs/43ae4ff490e5443c883885e0160ed787\n",
      "🏃 View run GradientBoostingRun at: http://127.0.0.1:5000/#/experiments/603297369034649042/runs/43ae4ff490e5443c883885e0160ed787\n",
      "🧪 View experiment at: http://127.0.0.1:5000/#/experiments/603297369034649042\n",
      "✅ Gradient Boosting Model registered successfully!\n"
     ]
    },
    {
     "name": "stderr",
     "output_type": "stream",
     "text": [
      "Created version '3' of model 'Fraud_Detection_GradientBoosting'.\n"
     ]
    }
   ],
   "source": [
    "from sklearn.ensemble import GradientBoostingClassifier\n",
    "from sklearn.metrics import accuracy_score, precision_score, recall_score, f1_score, roc_auc_score\n",
    "\n",
    "mlflow.set_tracking_uri(\"http://127.0.0.1:5000\")  \n",
    "mlflow.set_experiment(\"Credit Card Experiment\")\n",
    "\n",
    "with mlflow.start_run(run_name=\"GradientBoostingRun\") as run:\n",
    "    # Log model hyperparameters\n",
    "    mlflow.log_params({\n",
    "        \"model_type\": \"Gradient Boosting\",\n",
    "        \"n_estimators\": 100,\n",
    "        \"learning_rate\": 0.1,\n",
    "        \"max_depth\": 3\n",
    "    })\n",
    "\n",
    "    # Train the model\n",
    "    gb_model = GradientBoostingClassifier(n_estimators=100, learning_rate=0.1, max_depth=3)\n",
    "    gb_model.fit(X_fraud_resampled, y_fraud_resampled)\n",
    "\n",
    "    # Make predictions\n",
    "    y_pred = gb_model.predict(X_test_fd)\n",
    "    y_prob = gb_model.predict_proba(X_test_fd)[:, 1]\n",
    "\n",
    "    # Evaluate Model\n",
    "    metrics = {\n",
    "        \"accuracy\": accuracy_score(y_test_fd, y_pred),\n",
    "        \"precision\": precision_score(y_test_fd, y_pred),\n",
    "        \"recall\": recall_score(y_test_fd, y_pred),\n",
    "        \"f1_score\": f1_score(y_test_fd, y_pred),\n",
    "        \"roc_auc\": roc_auc_score(y_test_fd, y_prob),\n",
    "    }\n",
    "\n",
    "    mlflow.log_metrics(metrics)\n",
    "    mlflow.sklearn.log_model(gb_model, \"gradient_boosting_model\")\n",
    "\n",
    "    print(f\"✅ Gradient Boosting model training complete. Metrics logged in MLflow.\")\n",
    "    print(f\"🏃 View run at: http://127.0.0.1:5000/#/experiments/{run.info.experiment_id}/runs/{run.info.run_id}\")\n",
    "\n",
    "# Register Model\n",
    "mlflow.register_model(\n",
    "    f\"runs:/{run.info.run_id}/gradient_boosting_model\", \"Fraud_Detection_GradientBoosting\"\n",
    ")\n",
    "\n",
    "print(\"✅ Gradient Boosting Model registered successfully!\")\n"
   ]
  },
  {
   "cell_type": "markdown",
   "metadata": {},
   "source": [
    "### **LSTM (Long Short-Term Memory) with MLflow**\n",
    "LSTM (Long Short-Term Memory) is commonly used for sequential and time-series data."
   ]
  },
  {
   "cell_type": "code",
   "execution_count": 33,
   "metadata": {},
   "outputs": [
    {
     "name": "stdout",
     "output_type": "stream",
     "text": [
      "Epoch 1/10\n"
     ]
    },
    {
     "name": "stderr",
     "output_type": "stream",
     "text": [
      "d:\\KAIM\\Fraud-Shield-AI\\Fraud_Shield_AI\\Lib\\site-packages\\keras\\src\\layers\\rnn\\rnn.py:200: UserWarning: Do not pass an `input_shape`/`input_dim` argument to a layer. When using Sequential models, prefer using an `Input(shape)` object as the first layer in the model instead.\n",
      "  super().__init__(**kwargs)\n"
     ]
    },
    {
     "name": "stdout",
     "output_type": "stream",
     "text": [
      "\u001b[1m5841/5841\u001b[0m \u001b[32m━━━━━━━━━━━━━━━━━━━━\u001b[0m\u001b[37m\u001b[0m \u001b[1m66s\u001b[0m 11ms/step - accuracy: 0.8648 - loss: 0.3147 - val_accuracy: 0.9485 - val_loss: 0.2051\n",
      "Epoch 2/10\n",
      "\u001b[1m5841/5841\u001b[0m \u001b[32m━━━━━━━━━━━━━━━━━━━━\u001b[0m\u001b[37m\u001b[0m \u001b[1m78s\u001b[0m 13ms/step - accuracy: 0.9439 - loss: 0.1636 - val_accuracy: 0.9483 - val_loss: 0.1890\n",
      "Epoch 3/10\n",
      "\u001b[1m5841/5841\u001b[0m \u001b[32m━━━━━━━━━━━━━━━━━━━━\u001b[0m\u001b[37m\u001b[0m \u001b[1m72s\u001b[0m 12ms/step - accuracy: 0.9536 - loss: 0.1428 - val_accuracy: 0.9568 - val_loss: 0.1890\n",
      "Epoch 4/10\n",
      "\u001b[1m5841/5841\u001b[0m \u001b[32m━━━━━━━━━━━━━━━━━━━━\u001b[0m\u001b[37m\u001b[0m \u001b[1m67s\u001b[0m 11ms/step - accuracy: 0.9585 - loss: 0.1307 - val_accuracy: 0.9566 - val_loss: 0.1653\n",
      "Epoch 5/10\n",
      "\u001b[1m5841/5841\u001b[0m \u001b[32m━━━━━━━━━━━━━━━━━━━━\u001b[0m\u001b[37m\u001b[0m \u001b[1m59s\u001b[0m 10ms/step - accuracy: 0.9610 - loss: 0.1253 - val_accuracy: 0.9559 - val_loss: 0.1750\n",
      "Epoch 6/10\n",
      "\u001b[1m5841/5841\u001b[0m \u001b[32m━━━━━━━━━━━━━━━━━━━━\u001b[0m\u001b[37m\u001b[0m \u001b[1m48s\u001b[0m 8ms/step - accuracy: 0.9620 - loss: 0.1224 - val_accuracy: 0.9569 - val_loss: 0.1641\n",
      "Epoch 7/10\n",
      "\u001b[1m5841/5841\u001b[0m \u001b[32m━━━━━━━━━━━━━━━━━━━━\u001b[0m\u001b[37m\u001b[0m \u001b[1m69s\u001b[0m 12ms/step - accuracy: 0.9636 - loss: 0.1197 - val_accuracy: 0.9477 - val_loss: 0.1787\n",
      "Epoch 8/10\n",
      "\u001b[1m5841/5841\u001b[0m \u001b[32m━━━━━━━━━━━━━━━━━━━━\u001b[0m\u001b[37m\u001b[0m \u001b[1m69s\u001b[0m 12ms/step - accuracy: 0.9641 - loss: 0.1179 - val_accuracy: 0.9555 - val_loss: 0.1663\n",
      "Epoch 9/10\n",
      "\u001b[1m5841/5841\u001b[0m \u001b[32m━━━━━━━━━━━━━━━━━━━━\u001b[0m\u001b[37m\u001b[0m \u001b[1m39s\u001b[0m 7ms/step - accuracy: 0.9649 - loss: 0.1171 - val_accuracy: 0.9569 - val_loss: 0.1617\n",
      "Epoch 10/10\n",
      "\u001b[1m5841/5841\u001b[0m \u001b[32m━━━━━━━━━━━━━━━━━━━━\u001b[0m\u001b[37m\u001b[0m \u001b[1m48s\u001b[0m 8ms/step - accuracy: 0.9665 - loss: 0.1136 - val_accuracy: 0.9557 - val_loss: 0.1942\n",
      "\u001b[1m808/808\u001b[0m \u001b[32m━━━━━━━━━━━━━━━━━━━━\u001b[0m\u001b[37m\u001b[0m \u001b[1m5s\u001b[0m 6ms/step - accuracy: 0.9553 - loss: 0.1953\n"
     ]
    },
    {
     "name": "stderr",
     "output_type": "stream",
     "text": [
      "2025/02/17 13:38:33 WARNING mlflow.tensorflow: You are saving a TensorFlow Core model or Keras model without a signature. Inference with mlflow.pyfunc.spark_udf() will not work unless the model's pyfunc representation accepts pandas DataFrames as inference inputs.\n",
      "2025/02/17 13:38:41 WARNING mlflow.models.model: Model logged without a signature and input example. Please set `input_example` parameter when logging the model to auto infer the model signature.\n",
      "Registered model 'Fraud_Detection_LSTM' already exists. Creating a new version of this model...\n",
      "2025/02/17 13:38:41 INFO mlflow.store.model_registry.abstract_store: Waiting up to 300 seconds for model version to finish creation. Model name: Fraud_Detection_LSTM, version 3\n"
     ]
    },
    {
     "name": "stdout",
     "output_type": "stream",
     "text": [
      "✅ LSTM model training complete. Metrics logged in MLflow.\n",
      "🏃 View run at: http://127.0.0.1:5000/#/experiments/603297369034649042/runs/b2ad224d34224d0c876e7978002bf571\n",
      "🏃 View run LSTMRun at: http://127.0.0.1:5000/#/experiments/603297369034649042/runs/b2ad224d34224d0c876e7978002bf571\n",
      "🧪 View experiment at: http://127.0.0.1:5000/#/experiments/603297369034649042\n",
      "✅ LSTM Model registered successfully!\n"
     ]
    },
    {
     "name": "stderr",
     "output_type": "stream",
     "text": [
      "Created version '3' of model 'Fraud_Detection_LSTM'.\n"
     ]
    }
   ],
   "source": [
    "import tensorflow as tf\n",
    "from tensorflow.keras.models import Sequential\n",
    "from tensorflow.keras.layers import LSTM, Dense\n",
    "\n",
    "mlflow.set_experiment(\"Credit Card Experiment\")\n",
    "\n",
    "with mlflow.start_run(run_name=\"LSTMRun\") as run:\n",
    "    # Define LSTM model\n",
    "    model = Sequential([\n",
    "        LSTM(50, return_sequences=True, input_shape=(X_fraud_resampled.shape[1], 1)),\n",
    "        LSTM(50, return_sequences=False),\n",
    "        Dense(1, activation='sigmoid')\n",
    "    ])\n",
    "\n",
    "    model.compile(loss='binary_crossentropy', optimizer='adam', metrics=['accuracy'])\n",
    "\n",
    "    # Log parameters\n",
    "    mlflow.log_params({\n",
    "        \"model_type\": \"LSTM\",\n",
    "        \"units_layer1\": 50,\n",
    "        \"units_layer2\": 50,\n",
    "        \"optimizer\": \"adam\",\n",
    "        \"loss_function\": \"binary_crossentropy\"\n",
    "    })\n",
    "\n",
    "    # Train model\n",
    "    model.fit(X_fraud_resampled, y_fraud_resampled, epochs=10, batch_size=32, validation_data=(X_test_fd, y_test_fd))\n",
    "\n",
    "    # Evaluate Model\n",
    "    loss, accuracy = model.evaluate(X_test_fd, y_test_fd)\n",
    "    mlflow.log_metrics({\"loss\": loss, \"accuracy\": accuracy})\n",
    "\n",
    "    # Log the LSTM model\n",
    "    mlflow.tensorflow.log_model(model, \"lstm_model\")\n",
    "\n",
    "    print(f\"✅ LSTM model training complete. Metrics logged in MLflow.\")\n",
    "    print(f\"🏃 View run at: http://127.0.0.1:5000/#/experiments/{run.info.experiment_id}/runs/{run.info.run_id}\")\n",
    "\n",
    "# Register Model\n",
    "mlflow.register_model(\n",
    "    f\"runs:/{run.info.run_id}/lstm_model\", \"Fraud_Detection_LSTM\"\n",
    ")\n",
    "\n",
    "print(\"✅ LSTM Model registered successfully!\")\n"
   ]
  },
  {
   "cell_type": "code",
   "execution_count": null,
   "metadata": {},
   "outputs": [
    {
     "name": "stdout",
     "output_type": "stream",
     "text": [
      "Epoch 1/10\n"
     ]
    },
    {
     "name": "stderr",
     "output_type": "stream",
     "text": [
      "d:\\KAIM\\Fraud-Shield-AI\\Fraud_Shield_AI\\Lib\\site-packages\\keras\\src\\layers\\rnn\\rnn.py:200: UserWarning: Do not pass an `input_shape`/`input_dim` argument to a layer. When using Sequential models, prefer using an `Input(shape)` object as the first layer in the model instead.\n",
      "  super().__init__(**kwargs)\n"
     ]
    },
    {
     "name": "stdout",
     "output_type": "stream",
     "text": [
      "\u001b[1m5841/5841\u001b[0m \u001b[32m━━━━━━━━━━━━━━━━━━━━\u001b[0m\u001b[37m\u001b[0m \u001b[1m68s\u001b[0m 11ms/step - accuracy: 0.8653 - loss: 0.3142 - val_accuracy: 0.9399 - val_loss: 0.2271\n",
      "Epoch 2/10\n",
      "\u001b[1m5841/5841\u001b[0m \u001b[32m━━━━━━━━━━━━━━━━━━━━\u001b[0m\u001b[37m\u001b[0m \u001b[1m75s\u001b[0m 13ms/step - accuracy: 0.9441 - loss: 0.1627 - val_accuracy: 0.9434 - val_loss: 0.1990\n",
      "Epoch 3/10\n",
      "\u001b[1m5841/5841\u001b[0m \u001b[32m━━━━━━━━━━━━━━━━━━━━\u001b[0m\u001b[37m\u001b[0m \u001b[1m79s\u001b[0m 14ms/step - accuracy: 0.9563 - loss: 0.1359 - val_accuracy: 0.9491 - val_loss: 0.1704\n",
      "Epoch 4/10\n",
      "\u001b[1m5841/5841\u001b[0m \u001b[32m━━━━━━━━━━━━━━━━━━━━\u001b[0m\u001b[37m\u001b[0m \u001b[1m73s\u001b[0m 13ms/step - accuracy: 0.9600 - loss: 0.1267 - val_accuracy: 0.9534 - val_loss: 0.1823\n",
      "Epoch 5/10\n",
      "\u001b[1m5841/5841\u001b[0m \u001b[32m━━━━━━━━━━━━━━━━━━━━\u001b[0m\u001b[37m\u001b[0m \u001b[1m72s\u001b[0m 11ms/step - accuracy: 0.9627 - loss: 0.1218 - val_accuracy: 0.9533 - val_loss: 0.1797\n",
      "Epoch 6/10\n",
      "\u001b[1m5841/5841\u001b[0m \u001b[32m━━━━━━━━━━━━━━━━━━━━\u001b[0m\u001b[37m\u001b[0m \u001b[1m73s\u001b[0m 12ms/step - accuracy: 0.9632 - loss: 0.1209 - val_accuracy: 0.9568 - val_loss: 0.1653\n",
      "Epoch 7/10\n",
      "\u001b[1m5841/5841\u001b[0m \u001b[32m━━━━━━━━━━━━━━━━━━━━\u001b[0m\u001b[37m\u001b[0m \u001b[1m74s\u001b[0m 13ms/step - accuracy: 0.9639 - loss: 0.1186 - val_accuracy: 0.9569 - val_loss: 0.1655\n",
      "Epoch 8/10\n",
      "\u001b[1m5841/5841\u001b[0m \u001b[32m━━━━━━━━━━━━━━━━━━━━\u001b[0m\u001b[37m\u001b[0m \u001b[1m75s\u001b[0m 13ms/step - accuracy: 0.9658 - loss: 0.1144 - val_accuracy: 0.9569 - val_loss: 0.1635\n",
      "Epoch 9/10\n",
      "\u001b[1m5841/5841\u001b[0m \u001b[32m━━━━━━━━━━━━━━━━━━━━\u001b[0m\u001b[37m\u001b[0m \u001b[1m77s\u001b[0m 13ms/step - accuracy: 0.9653 - loss: 0.1169 - val_accuracy: 0.9562 - val_loss: 0.1721\n",
      "Epoch 10/10\n",
      "\u001b[1m5841/5841\u001b[0m \u001b[32m━━━━━━━━━━━━━━━━━━━━\u001b[0m\u001b[37m\u001b[0m \u001b[1m69s\u001b[0m 12ms/step - accuracy: 0.9662 - loss: 0.1148 - val_accuracy: 0.9569 - val_loss: 0.1640\n",
      "\u001b[1m808/808\u001b[0m \u001b[32m━━━━━━━━━━━━━━━━━━━━\u001b[0m\u001b[37m\u001b[0m \u001b[1m5s\u001b[0m 7ms/step - accuracy: 0.9566 - loss: 0.1649\n"
     ]
    },
    {
     "name": "stderr",
     "output_type": "stream",
     "text": [
      "2025/02/17 13:20:44 WARNING mlflow.tensorflow: You are saving a TensorFlow Core model or Keras model without a signature. Inference with mlflow.pyfunc.spark_udf() will not work unless the model's pyfunc representation accepts pandas DataFrames as inference inputs.\n",
      "2025/02/17 13:20:51 WARNING mlflow.models.model: Model logged without a signature and input example. Please set `input_example` parameter when logging the model to auto infer the model signature.\n",
      "Registered model 'Fraud_Detection_LSTM' already exists. Creating a new version of this model...\n",
      "2025/02/17 13:20:51 INFO mlflow.store.model_registry.abstract_store: Waiting up to 300 seconds for model version to finish creation. Model name: Fraud_Detection_LSTM, version 2\n"
     ]
    },
    {
     "name": "stdout",
     "output_type": "stream",
     "text": [
      "✅ LSTM model training complete. Metrics logged in MLflow.\n",
      "🏃 View run at: http://127.0.0.1:5000/#/experiments/254910024325914828/runs/b60659a48add41cfa82336638640dca1\n",
      "🏃 View run LSTMRun at: http://127.0.0.1:5000/#/experiments/254910024325914828/runs/b60659a48add41cfa82336638640dca1\n",
      "🧪 View experiment at: http://127.0.0.1:5000/#/experiments/254910024325914828\n",
      "✅ LSTM Model registered successfully!\n"
     ]
    },
    {
     "name": "stderr",
     "output_type": "stream",
     "text": [
      "Created version '2' of model 'Fraud_Detection_LSTM'.\n"
     ]
    }
   ],
   "source": [
    "import tensorflow as tf\n",
    "from tensorflow.keras.models import Sequential\n",
    "from tensorflow.keras.layers import LSTM, Dense\n",
    "\n",
    "mlflow.set_experiment(\"Fraud Detection Experiment\")\n",
    "\n",
    "with mlflow.start_run(run_name=\"LSTMRun\") as run:\n",
    "    # Define LSTM model\n",
    "    model = Sequential([\n",
    "        LSTM(50, return_sequences=True, input_shape=(X_fraud_resampled.shape[1], 1)),\n",
    "        LSTM(50, return_sequences=False),\n",
    "        Dense(1, activation='sigmoid')\n",
    "    ])\n",
    "\n",
    "    model.compile(loss='binary_crossentropy', optimizer='adam', metrics=['accuracy'])\n",
    "\n",
    "    # Log parameters\n",
    "    mlflow.log_params({\n",
    "        \"model_type\": \"LSTM\",\n",
    "        \"units_layer1\": 50,\n",
    "        \"units_layer2\": 50,\n",
    "        \"optimizer\": \"adam\",\n",
    "        \"loss_function\": \"binary_crossentropy\"\n",
    "    })\n",
    "\n",
    "    # Train model\n",
    "    model.fit(X_fraud_resampled, y_fraud_resampled, epochs=10, batch_size=32, validation_data=(X_test_fd, y_test_fd))\n",
    "\n",
    "    # Evaluate Model\n",
    "    loss, accuracy = model.evaluate(X_test_fd, y_test_fd)\n",
    "    mlflow.log_metrics({\"loss\": loss, \"accuracy\": accuracy})\n",
    "\n",
    "    # Log the LSTM model\n",
    "    mlflow.tensorflow.log_model(model, \"lstm_model\")\n",
    "\n",
    "    print(f\"✅ LSTM model training complete. Metrics logged in MLflow.\")\n",
    "    print(f\"🏃 View run at: http://127.0.0.1:5000/#/experiments/{run.info.experiment_id}/runs/{run.info.run_id}\")\n",
    "\n",
    "# Register Model\n",
    "mlflow.register_model(\n",
    "    f\"runs:/{run.info.run_id}/lstm_model\", \"Fraud_Detection_LSTM\"\n",
    ")\n",
    "\n",
    "print(\"✅ LSTM Model registered successfully!\")\n"
   ]
  },
  {
   "cell_type": "markdown",
   "metadata": {},
   "source": [
    "### **CNN (Convolutional Neural Networks)**\n",
    "CNN (Convolutional Neural Networks) is often used for image data but can also be adapted for structured fraud detection."
   ]
  },
  {
   "cell_type": "code",
   "execution_count": 54,
   "metadata": {},
   "outputs": [
    {
     "name": "stdout",
     "output_type": "stream",
     "text": [
      "Epoch 1/10\n"
     ]
    },
    {
     "name": "stderr",
     "output_type": "stream",
     "text": [
      "d:\\KAIM\\Fraud-Shield-AI\\Fraud_Shield_AI\\Lib\\site-packages\\keras\\src\\layers\\convolutional\\base_conv.py:107: UserWarning: Do not pass an `input_shape`/`input_dim` argument to a layer. When using Sequential models, prefer using an `Input(shape)` object as the first layer in the model instead.\n",
      "  super().__init__(activity_regularizer=activity_regularizer, **kwargs)\n"
     ]
    },
    {
     "name": "stdout",
     "output_type": "stream",
     "text": [
      "\u001b[1m5841/5841\u001b[0m \u001b[32m━━━━━━━━━━━━━━━━━━━━\u001b[0m\u001b[37m\u001b[0m \u001b[1m12s\u001b[0m 2ms/step - accuracy: 0.6737 - loss: 74.3617 - val_accuracy: 0.2794 - val_loss: 40.4968\n",
      "Epoch 2/10\n",
      "\u001b[1m5841/5841\u001b[0m \u001b[32m━━━━━━━━━━━━━━━━━━━━\u001b[0m\u001b[37m\u001b[0m \u001b[1m10s\u001b[0m 2ms/step - accuracy: 0.8120 - loss: 16.4329 - val_accuracy: 0.9526 - val_loss: 9.0482\n",
      "Epoch 3/10\n",
      "\u001b[1m5841/5841\u001b[0m \u001b[32m━━━━━━━━━━━━━━━━━━━━\u001b[0m\u001b[37m\u001b[0m \u001b[1m11s\u001b[0m 2ms/step - accuracy: 0.8283 - loss: 6.2789 - val_accuracy: 0.9535 - val_loss: 2.0391\n",
      "Epoch 4/10\n",
      "\u001b[1m5841/5841\u001b[0m \u001b[32m━━━━━━━━━━━━━━━━━━━━\u001b[0m\u001b[37m\u001b[0m \u001b[1m13s\u001b[0m 2ms/step - accuracy: 0.8554 - loss: 1.5174 - val_accuracy: 0.9429 - val_loss: 0.3130\n",
      "Epoch 5/10\n",
      "\u001b[1m5841/5841\u001b[0m \u001b[32m━━━━━━━━━━━━━━━━━━━━\u001b[0m\u001b[37m\u001b[0m \u001b[1m28s\u001b[0m 5ms/step - accuracy: 0.9069 - loss: 0.3383 - val_accuracy: 0.9396 - val_loss: 0.1941\n",
      "Epoch 6/10\n",
      "\u001b[1m5841/5841\u001b[0m \u001b[32m━━━━━━━━━━━━━━━━━━━━\u001b[0m\u001b[37m\u001b[0m \u001b[1m12s\u001b[0m 2ms/step - accuracy: 0.9327 - loss: 0.1830 - val_accuracy: 0.9485 - val_loss: 0.1795\n",
      "Epoch 7/10\n",
      "\u001b[1m5841/5841\u001b[0m \u001b[32m━━━━━━━━━━━━━━━━━━━━\u001b[0m\u001b[37m\u001b[0m \u001b[1m11s\u001b[0m 2ms/step - accuracy: 0.9440 - loss: 0.1621 - val_accuracy: 0.9535 - val_loss: 0.1763\n",
      "Epoch 8/10\n",
      "\u001b[1m5841/5841\u001b[0m \u001b[32m━━━━━━━━━━━━━━━━━━━━\u001b[0m\u001b[37m\u001b[0m \u001b[1m10s\u001b[0m 2ms/step - accuracy: 0.9514 - loss: 0.1534 - val_accuracy: 0.9500 - val_loss: 0.1861\n",
      "Epoch 9/10\n",
      "\u001b[1m5841/5841\u001b[0m \u001b[32m━━━━━━━━━━━━━━━━━━━━\u001b[0m\u001b[37m\u001b[0m \u001b[1m10s\u001b[0m 2ms/step - accuracy: 0.9544 - loss: 0.1435 - val_accuracy: 0.9531 - val_loss: 0.1746\n",
      "Epoch 10/10\n",
      "\u001b[1m5841/5841\u001b[0m \u001b[32m━━━━━━━━━━━━━━━━━━━━\u001b[0m\u001b[37m\u001b[0m \u001b[1m11s\u001b[0m 2ms/step - accuracy: 0.9554 - loss: 0.1420 - val_accuracy: 0.9530 - val_loss: 0.1802\n",
      "\u001b[1m808/808\u001b[0m \u001b[32m━━━━━━━━━━━━━━━━━━━━\u001b[0m\u001b[37m\u001b[0m \u001b[1m2s\u001b[0m 3ms/step - accuracy: 0.9531 - loss: 0.1822\n"
     ]
    },
    {
     "name": "stderr",
     "output_type": "stream",
     "text": [
      "2025/02/10 19:16:58 WARNING mlflow.tensorflow: You are saving a TensorFlow Core model or Keras model without a signature. Inference with mlflow.pyfunc.spark_udf() will not work unless the model's pyfunc representation accepts pandas DataFrames as inference inputs.\n",
      "2025/02/10 19:17:06 WARNING mlflow.models.model: Model logged without a signature and input example. Please set `input_example` parameter when logging the model to auto infer the model signature.\n",
      "Successfully registered model 'Fraud_Detection_CNN'.\n",
      "2025/02/10 19:17:06 INFO mlflow.store.model_registry.abstract_store: Waiting up to 300 seconds for model version to finish creation. Model name: Fraud_Detection_CNN, version 1\n"
     ]
    },
    {
     "name": "stdout",
     "output_type": "stream",
     "text": [
      "✅ CNN model training complete. Metrics logged in MLflow.\n",
      "🏃 View run at: http://127.0.0.1:5000/#/experiments/254910024325914828/runs/d8b69bd6aa814c14a02ea1c718c0fab4\n",
      "🏃 View run CNNRun at: http://127.0.0.1:5000/#/experiments/254910024325914828/runs/d8b69bd6aa814c14a02ea1c718c0fab4\n",
      "🧪 View experiment at: http://127.0.0.1:5000/#/experiments/254910024325914828\n",
      "✅ CNN Model registered successfully!\n"
     ]
    },
    {
     "name": "stderr",
     "output_type": "stream",
     "text": [
      "Created version '1' of model 'Fraud_Detection_CNN'.\n"
     ]
    }
   ],
   "source": [
    "import mlflow\n",
    "import mlflow.tensorflow\n",
    "from tensorflow.keras.models import Sequential\n",
    "from tensorflow.keras.layers import Conv1D, MaxPooling1D, Flatten, Dense\n",
    "\n",
    "mlflow.set_experiment(\"Fraud Detection Experiment\")\n",
    "\n",
    "with mlflow.start_run(run_name=\"CNNRun\") as run:\n",
    "    # Define CNN model\n",
    "    model = Sequential([\n",
    "        Conv1D(32, kernel_size=3, activation='relu', input_shape=(X_fraud_resampled.shape[1], 1)),\n",
    "        MaxPooling1D(pool_size=2),\n",
    "        Flatten(),\n",
    "        Dense(50, activation='relu'),\n",
    "        Dense(1, activation='sigmoid')\n",
    "    ])\n",
    "\n",
    "    model.compile(loss='binary_crossentropy', optimizer='adam', metrics=['accuracy'])\n",
    "\n",
    "    # Log parameters\n",
    "    mlflow.log_params({\n",
    "        \"model_type\": \"CNN\",\n",
    "        \"filters\": 32,\n",
    "        \"kernel_size\": 3,\n",
    "        \"dense_units\": 50,\n",
    "        \"optimizer\": \"adam\",\n",
    "        \"loss_function\": \"binary_crossentropy\"\n",
    "    })\n",
    "\n",
    "    # Train model\n",
    "    model.fit(X_fraud_resampled, y_fraud_resampled, epochs=10, batch_size=32, validation_data=(X_test_fd, y_test_fd))\n",
    "\n",
    "    # Evaluate Model\n",
    "    loss, accuracy = model.evaluate(X_test_fd, y_test_fd)\n",
    "    mlflow.log_metrics({\"loss\": loss, \"accuracy\": accuracy})\n",
    "\n",
    "    # Log the CNN model\n",
    "    mlflow.tensorflow.log_model(model, \"cnn_model\")\n",
    "\n",
    "    print(f\"✅ CNN model training complete. Metrics logged in MLflow.\")\n",
    "    print(f\"🏃 View run at: http://127.0.0.1:5000/#/experiments/{run.info.experiment_id}/runs/{run.info.run_id}\")\n",
    "\n",
    "# Register Model\n",
    "mlflow.register_model(\n",
    "    f\"runs:/{run.info.run_id}/cnn_model\", \"Fraud_Detection_CNN\"\n",
    ")\n",
    "\n",
    "print(\"✅ CNN Model registered successfully!\")\n"
   ]
  },
  {
   "cell_type": "markdown",
   "metadata": {},
   "source": [
    "### **Fraud Detection Model with MLflow**\n",
    "\n",
    "📌 **Overview**\n",
    "\n",
    "This project builds a Fraud Detection Model using Random Forest Classifier and tracks experiments with MLflow. The model is trained on resampled fraud data and evaluated on test data, with all metrics and artifacts logged to MLflow.\n",
    "\n",
    "🚀 **Features**\n",
    "\n",
    "+ MLflow Experiment Tracking: Logs parameters, metrics, and artifacts.\n",
    "\n",
    "+ Random Forest Classifier: Trained with resampled fraud data.\n",
    "\n",
    "+ Automatic Model Registration: Saves the trained model in MLflow.\n",
    "\n",
    "+ Performance Evaluation: Logs accuracy, precision, recall, F1-score, and ROC-AUC.\n",
    "  \n",
    "📊 **Model Evaluation Metrics**\n",
    "\n",
    "| Metric      | Description                                                  |\n",
    "|-------------|--------------------------------------------------------------|\n",
    "| Accuracy    | Measures overall correctness                                  |\n",
    "| Precision   | Measures how many predicted fraud cases are actual fraud     |\n",
    "| Recall      | Measures how many actual fraud cases were detected           |\n",
    "| F1 Score    | Balances precision and recall                                 |\n",
    "| ROC AUC     | Measures the model’s ability to distinguish between fraud and non-fraud |\n",
    "\n",
    "📌 **Notes**\n",
    "\n",
    "+ Ensure MLflow Tracking Server is running before executing the script.\n",
    "\n",
    "+ The model is automatically registered in MLflow.\n",
    "  \n",
    "### ✅ Happy Experimenting with MLflow! 🚀"
   ]
  }
 ],
 "metadata": {
  "kernelspec": {
   "display_name": "Fraud_Shield_AI",
   "language": "python",
   "name": "python3"
  },
  "language_info": {
   "codemirror_mode": {
    "name": "ipython",
    "version": 3
   },
   "file_extension": ".py",
   "mimetype": "text/x-python",
   "name": "python",
   "nbconvert_exporter": "python",
   "pygments_lexer": "ipython3",
   "version": "3.12.9"
  }
 },
 "nbformat": 4,
 "nbformat_minor": 2
}
